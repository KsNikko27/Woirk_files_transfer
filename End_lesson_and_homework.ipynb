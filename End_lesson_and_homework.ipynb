{
 "cells": [
  {
   "cell_type": "code",
   "execution_count": 1,
   "id": "7bbd18cb",
   "metadata": {},
   "outputs": [],
   "source": [
    "import pandas as pd\n",
    "import numpy as np\n",
    "from matplotlib import pyplot as plt"
   ]
  },
  {
   "cell_type": "code",
   "execution_count": 4,
   "id": "5b9a847c",
   "metadata": {},
   "outputs": [
    {
     "data": {
      "text/html": [
       "<div>\n",
       "<style scoped>\n",
       "    .dataframe tbody tr th:only-of-type {\n",
       "        vertical-align: middle;\n",
       "    }\n",
       "\n",
       "    .dataframe tbody tr th {\n",
       "        vertical-align: top;\n",
       "    }\n",
       "\n",
       "    .dataframe thead th {\n",
       "        text-align: right;\n",
       "    }\n",
       "</style>\n",
       "<table border=\"1\" class=\"dataframe\">\n",
       "  <thead>\n",
       "    <tr style=\"text-align: right;\">\n",
       "      <th></th>\n",
       "      <th>x_train</th>\n",
       "      <th>y_train</th>\n",
       "    </tr>\n",
       "  </thead>\n",
       "  <tbody>\n",
       "    <tr>\n",
       "      <th>0</th>\n",
       "      <td>0.138368</td>\n",
       "      <td>0.838812</td>\n",
       "    </tr>\n",
       "    <tr>\n",
       "      <th>1</th>\n",
       "      <td>0.157237</td>\n",
       "      <td>0.889313</td>\n",
       "    </tr>\n",
       "    <tr>\n",
       "      <th>2</th>\n",
       "      <td>0.188684</td>\n",
       "      <td>1.430040</td>\n",
       "    </tr>\n",
       "    <tr>\n",
       "      <th>3</th>\n",
       "      <td>0.685553</td>\n",
       "      <td>1.717309</td>\n",
       "    </tr>\n",
       "    <tr>\n",
       "      <th>4</th>\n",
       "      <td>0.874237</td>\n",
       "      <td>2.032588</td>\n",
       "    </tr>\n",
       "  </tbody>\n",
       "</table>\n",
       "</div>"
      ],
      "text/plain": [
       "    x_train   y_train\n",
       "0  0.138368  0.838812\n",
       "1  0.157237  0.889313\n",
       "2  0.188684  1.430040\n",
       "3  0.685553  1.717309\n",
       "4  0.874237  2.032588"
      ]
     },
     "execution_count": 4,
     "metadata": {},
     "output_type": "execute_result"
    }
   ],
   "source": [
    "data = pd.read_csv('non_linear.csv')\n",
    "data.head()"
   ]
  },
  {
   "cell_type": "code",
   "execution_count": 15,
   "id": "4e88e091",
   "metadata": {},
   "outputs": [
    {
     "data": {
      "text/plain": [
       "<matplotlib.collections.PathCollection at 0x23f442fb550>"
      ]
     },
     "execution_count": 15,
     "metadata": {},
     "output_type": "execute_result"
    },
    {
     "data": {
      "image/png": "[encoded data removed]",
      "text/plain": [
       "<Figure size 640x480 with 1 Axes>"
      ]
     },
     "metadata": {},
     "output_type": "display_data"
    }
   ],
   "source": [
    "plt.scatter(data.x_train, data.y_train, 30, 'black')"
   ]
  },
  {
   "cell_type": "code",
   "execution_count": 16,
   "id": "127d2d53",
   "metadata": {},
   "outputs": [],
   "source": [
    "from sklearn.linear_model import LinearRegression"
   ]
  },
  {
   "cell_type": "code",
   "execution_count": 26,
   "id": "908f1724",
   "metadata": {},
   "outputs": [
    {
     "data": {
      "text/html": [
       "<div>\n",
       "<style scoped>\n",
       "    .dataframe tbody tr th:only-of-type {\n",
       "        vertical-align: middle;\n",
       "    }\n",
       "\n",
       "    .dataframe tbody tr th {\n",
       "        vertical-align: top;\n",
       "    }\n",
       "\n",
       "    .dataframe thead th {\n",
       "        text-align: right;\n",
       "    }\n",
       "</style>\n",
       "<table border=\"1\" class=\"dataframe\">\n",
       "  <thead>\n",
       "    <tr style=\"text-align: right;\">\n",
       "      <th></th>\n",
       "      <th>x_train</th>\n",
       "    </tr>\n",
       "  </thead>\n",
       "  <tbody>\n",
       "    <tr>\n",
       "      <th>0</th>\n",
       "      <td>0.138368</td>\n",
       "    </tr>\n",
       "    <tr>\n",
       "      <th>1</th>\n",
       "      <td>0.157237</td>\n",
       "    </tr>\n",
       "    <tr>\n",
       "      <th>2</th>\n",
       "      <td>0.188684</td>\n",
       "    </tr>\n",
       "    <tr>\n",
       "      <th>3</th>\n",
       "      <td>0.685553</td>\n",
       "    </tr>\n",
       "    <tr>\n",
       "      <th>4</th>\n",
       "      <td>0.874237</td>\n",
       "    </tr>\n",
       "    <tr>\n",
       "      <th>5</th>\n",
       "      <td>1.182421</td>\n",
       "    </tr>\n",
       "    <tr>\n",
       "      <th>6</th>\n",
       "      <td>1.251605</td>\n",
       "    </tr>\n",
       "    <tr>\n",
       "      <th>7</th>\n",
       "      <td>1.270474</td>\n",
       "    </tr>\n",
       "    <tr>\n",
       "      <th>8</th>\n",
       "      <td>1.402553</td>\n",
       "    </tr>\n",
       "    <tr>\n",
       "      <th>9</th>\n",
       "      <td>1.427711</td>\n",
       "    </tr>\n",
       "    <tr>\n",
       "      <th>10</th>\n",
       "      <td>1.471737</td>\n",
       "    </tr>\n",
       "    <tr>\n",
       "      <th>11</th>\n",
       "      <td>1.534632</td>\n",
       "    </tr>\n",
       "    <tr>\n",
       "      <th>12</th>\n",
       "      <td>1.553500</td>\n",
       "    </tr>\n",
       "    <tr>\n",
       "      <th>13</th>\n",
       "      <td>1.842816</td>\n",
       "    </tr>\n",
       "    <tr>\n",
       "      <th>14</th>\n",
       "      <td>2.018921</td>\n",
       "    </tr>\n",
       "    <tr>\n",
       "      <th>15</th>\n",
       "      <td>2.289369</td>\n",
       "    </tr>\n",
       "    <tr>\n",
       "      <th>16</th>\n",
       "      <td>2.641579</td>\n",
       "    </tr>\n",
       "    <tr>\n",
       "      <th>17</th>\n",
       "      <td>2.685606</td>\n",
       "    </tr>\n",
       "    <tr>\n",
       "      <th>18</th>\n",
       "      <td>2.798816</td>\n",
       "    </tr>\n",
       "    <tr>\n",
       "      <th>19</th>\n",
       "      <td>2.823974</td>\n",
       "    </tr>\n",
       "    <tr>\n",
       "      <th>20</th>\n",
       "      <td>2.912027</td>\n",
       "    </tr>\n",
       "    <tr>\n",
       "      <th>21</th>\n",
       "      <td>2.924606</td>\n",
       "    </tr>\n",
       "    <tr>\n",
       "      <th>22</th>\n",
       "      <td>3.270527</td>\n",
       "    </tr>\n",
       "    <tr>\n",
       "      <th>23</th>\n",
       "      <td>3.314553</td>\n",
       "    </tr>\n",
       "    <tr>\n",
       "      <th>24</th>\n",
       "      <td>3.528395</td>\n",
       "    </tr>\n",
       "    <tr>\n",
       "      <th>25</th>\n",
       "      <td>3.597580</td>\n",
       "    </tr>\n",
       "    <tr>\n",
       "      <th>26</th>\n",
       "      <td>3.761106</td>\n",
       "    </tr>\n",
       "    <tr>\n",
       "      <th>27</th>\n",
       "      <td>3.773685</td>\n",
       "    </tr>\n",
       "    <tr>\n",
       "      <th>28</th>\n",
       "      <td>3.918343</td>\n",
       "    </tr>\n",
       "    <tr>\n",
       "      <th>29</th>\n",
       "      <td>4.107027</td>\n",
       "    </tr>\n",
       "    <tr>\n",
       "      <th>30</th>\n",
       "      <td>4.107027</td>\n",
       "    </tr>\n",
       "    <tr>\n",
       "      <th>31</th>\n",
       "      <td>4.125895</td>\n",
       "    </tr>\n",
       "    <tr>\n",
       "      <th>32</th>\n",
       "      <td>4.188790</td>\n",
       "    </tr>\n",
       "    <tr>\n",
       "      <th>33</th>\n",
       "      <td>4.333448</td>\n",
       "    </tr>\n",
       "    <tr>\n",
       "      <th>34</th>\n",
       "      <td>4.541001</td>\n",
       "    </tr>\n",
       "    <tr>\n",
       "      <th>35</th>\n",
       "      <td>4.572448</td>\n",
       "    </tr>\n",
       "    <tr>\n",
       "      <th>36</th>\n",
       "      <td>4.622764</td>\n",
       "    </tr>\n",
       "    <tr>\n",
       "      <th>37</th>\n",
       "      <td>4.641632</td>\n",
       "    </tr>\n",
       "    <tr>\n",
       "      <th>38</th>\n",
       "      <td>4.937238</td>\n",
       "    </tr>\n",
       "    <tr>\n",
       "      <th>39</th>\n",
       "      <td>5.125922</td>\n",
       "    </tr>\n",
       "    <tr>\n",
       "      <th>40</th>\n",
       "      <td>5.157369</td>\n",
       "    </tr>\n",
       "    <tr>\n",
       "      <th>41</th>\n",
       "      <td>5.258001</td>\n",
       "    </tr>\n",
       "    <tr>\n",
       "      <th>42</th>\n",
       "      <td>5.308317</td>\n",
       "    </tr>\n",
       "    <tr>\n",
       "      <th>43</th>\n",
       "      <td>5.415238</td>\n",
       "    </tr>\n",
       "    <tr>\n",
       "      <th>44</th>\n",
       "      <td>5.446685</td>\n",
       "    </tr>\n",
       "    <tr>\n",
       "      <th>45</th>\n",
       "      <td>5.509580</td>\n",
       "    </tr>\n",
       "    <tr>\n",
       "      <th>46</th>\n",
       "      <td>5.610212</td>\n",
       "    </tr>\n",
       "    <tr>\n",
       "      <th>47</th>\n",
       "      <td>5.949843</td>\n",
       "    </tr>\n",
       "    <tr>\n",
       "      <th>48</th>\n",
       "      <td>5.968712</td>\n",
       "    </tr>\n",
       "    <tr>\n",
       "      <th>49</th>\n",
       "      <td>5.968712</td>\n",
       "    </tr>\n",
       "  </tbody>\n",
       "</table>\n",
       "</div>"
      ],
      "text/plain": [
       "     x_train\n",
       "0   0.138368\n",
       "1   0.157237\n",
       "2   0.188684\n",
       "3   0.685553\n",
       "4   0.874237\n",
       "5   1.182421\n",
       "6   1.251605\n",
       "7   1.270474\n",
       "8   1.402553\n",
       "9   1.427711\n",
       "10  1.471737\n",
       "11  1.534632\n",
       "12  1.553500\n",
       "13  1.842816\n",
       "14  2.018921\n",
       "15  2.289369\n",
       "16  2.641579\n",
       "17  2.685606\n",
       "18  2.798816\n",
       "19  2.823974\n",
       "20  2.912027\n",
       "21  2.924606\n",
       "22  3.270527\n",
       "23  3.314553\n",
       "24  3.528395\n",
       "25  3.597580\n",
       "26  3.761106\n",
       "27  3.773685\n",
       "28  3.918343\n",
       "29  4.107027\n",
       "30  4.107027\n",
       "31  4.125895\n",
       "32  4.188790\n",
       "33  4.333448\n",
       "34  4.541001\n",
       "35  4.572448\n",
       "36  4.622764\n",
       "37  4.641632\n",
       "38  4.937238\n",
       "39  5.125922\n",
       "40  5.157369\n",
       "41  5.258001\n",
       "42  5.308317\n",
       "43  5.415238\n",
       "44  5.446685\n",
       "45  5.509580\n",
       "46  5.610212\n",
       "47  5.949843\n",
       "48  5.968712\n",
       "49  5.968712"
      ]
     },
     "execution_count": 26,
     "metadata": {},
     "output_type": "execute_result"
    }
   ],
   "source": [
    "data[['x_train']]"
   ]
  },
  {
   "cell_type": "code",
   "execution_count": 32,
   "id": "d2e30d88",
   "metadata": {},
   "outputs": [],
   "source": [
    "reg = LinearRegression().fit(data[['x_train']], data.y_train)"
   ]
  },
  {
   "cell_type": "code",
   "execution_count": 33,
   "id": "22883eb9",
   "metadata": {},
   "outputs": [],
   "source": [
    "y_pr = reg.predict(data[['x_train']])"
   ]
  },
  {
   "cell_type": "code",
   "execution_count": 39,
   "id": "5aeffe5a",
   "metadata": {
    "collapsed": true
   },
   "outputs": [
    {
     "data": {
      "text/plain": [
       "<matplotlib.collections.PathCollection at 0x23f5555d760>"
      ]
     },
     "execution_count": 39,
     "metadata": {},
     "output_type": "execute_result"
    },
    {
     "data": {
      "image/png": "[encoded data removed]",
      "text/plain": [
       "<Figure size 640x480 with 1 Axes>"
      ]
     },
     "metadata": {},
     "output_type": "display_data"
    }
   ],
   "source": [
    "plt.plot(data.x_train,y_pr)\n",
    "plt.scatter(data.x_train, data.y_train)"
   ]
  },
  {
   "cell_type": "code",
   "execution_count": 48,
   "id": "f153f958",
   "metadata": {},
   "outputs": [],
   "source": [
    "def generate_degrees(data_list: list, degree=1):\n",
    "    return np.array([\n",
    "        data_list**n for n in range(1, degree + 1)\n",
    "    ]).T"
   ]
  },
  {
   "cell_type": "code",
   "execution_count": 139,
   "id": "a98f2014",
   "metadata": {},
   "outputs": [
    {
     "data": {
      "text/plain": [
       "array([[1.38368445e-01, 1.91458266e-02],\n",
       "       [1.57236870e-01, 2.47234331e-02],\n",
       "       [1.88684243e-01, 3.56017437e-02],\n",
       "       [6.85552751e-01, 4.69982575e-01],\n",
       "       [8.74236995e-01, 7.64290323e-01],\n",
       "       [1.18242126e+00, 1.39812003e+00],\n",
       "       [1.25160548e+00, 1.56651628e+00],\n",
       "       [1.27047391e+00, 1.61410395e+00],\n",
       "       [1.40255288e+00, 1.96715457e+00],\n",
       "       [1.42771078e+00, 2.03835806e+00],\n",
       "       [1.47173710e+00, 2.16601009e+00],\n",
       "       [1.53463185e+00, 2.35509491e+00],\n",
       "       [1.55350027e+00, 2.41336309e+00],\n",
       "       [1.84281611e+00, 3.39597122e+00],\n",
       "       [2.01892141e+00, 4.07604364e+00],\n",
       "       [2.28936882e+00, 5.24120960e+00],\n",
       "       [2.64157941e+00, 6.97794177e+00],\n",
       "       [2.68560573e+00, 7.21247815e+00],\n",
       "       [2.79881628e+00, 7.83337256e+00],\n",
       "       [2.82397418e+00, 7.97483015e+00],\n",
       "       [2.91202682e+00, 8.47990022e+00],\n",
       "       [2.92460577e+00, 8.55331893e+00],\n",
       "       [3.27052689e+00, 1.06963461e+01],\n",
       "       [3.31455321e+00, 1.09862630e+01],\n",
       "       [3.52839535e+00, 1.24495738e+01],\n",
       "       [3.59757958e+00, 1.29425788e+01],\n",
       "       [3.76110592e+00, 1.41459177e+01],\n",
       "       [3.77368487e+00, 1.42406975e+01],\n",
       "       [3.91834279e+00, 1.53534102e+01],\n",
       "       [4.10702703e+00, 1.68676710e+01],\n",
       "       [4.10702703e+00, 1.68676710e+01],\n",
       "       [4.12589546e+00, 1.70230133e+01],\n",
       "       [4.18879020e+00, 1.75459634e+01],\n",
       "       [4.33344812e+00, 1.87787727e+01],\n",
       "       [4.54100079e+00, 2.06206882e+01],\n",
       "       [4.57244817e+00, 2.09072822e+01],\n",
       "       [4.62276396e+00, 2.13699467e+01],\n",
       "       [4.64163239e+00, 2.15447512e+01],\n",
       "       [4.93723770e+00, 2.43763161e+01],\n",
       "       [5.12592195e+00, 2.62750758e+01],\n",
       "       [5.15736932e+00, 2.65984583e+01],\n",
       "       [5.25800092e+00, 2.76465737e+01],\n",
       "       [5.30831672e+00, 2.81782264e+01],\n",
       "       [5.41523779e+00, 2.93248003e+01],\n",
       "       [5.44668516e+00, 2.96663792e+01],\n",
       "       [5.50957991e+00, 3.03554708e+01],\n",
       "       [5.61021151e+00, 3.14744731e+01],\n",
       "       [5.94984314e+00, 3.54006334e+01],\n",
       "       [5.96871157e+00, 3.56255178e+01],\n",
       "       [5.96871157e+00, 3.56255178e+01]])"
      ]
     },
     "execution_count": 139,
     "metadata": {},
     "output_type": "execute_result"
    }
   ],
   "source": [
    "degree = 2\n",
    "generate_degrees(data['x_train'], degree)"
   ]
  },
  {
   "cell_type": "code",
   "execution_count": 100,
   "id": "0fc0a4f4",
   "metadata": {},
   "outputs": [],
   "source": [
    "from sklearn.metrics import mean_squared_error\n",
    "from sklearn.metrics import r2_score\n"
   ]
  },
  {
   "cell_type": "code",
   "execution_count": 138,
   "id": "3be1533a",
   "metadata": {},
   "outputs": [
    {
     "name": "stdout",
     "output_type": "stream",
     "text": [
      "Степень полинома = 10 \n",
      "Качество = 0.90911 \n"
     ]
    },
    {
     "data": {
      "text/plain": [
       "[<matplotlib.lines.Line2D at 0x23f5d6c1100>]"
      ]
     },
     "execution_count": 138,
     "metadata": {},
     "output_type": "execute_result"
    },
    {
     "data": {
      "image/png": "[encoded data removed]",
      "text/plain": [
       "<Figure size 640x480 with 1 Axes>"
      ]
     },
     "metadata": {},
     "output_type": "display_data"
    }
   ],
   "source": [
    "degree = 10\n",
    "X = generate_degrees(data['x_train'], degree)\n",
    "model = LinearRegression().fit(X,data['y_train'])\n",
    "y_pred = model.predict(X)\n",
    "err = r2_score(data['y_train'],y_pred)\n",
    "print(\"Степень полинома = %d \\nКачество = %.5f \"%(degree, err))\n",
    "plt.scatter(data['x_train'], data['y_train'])\n",
    "plt.plot(data['x_train'], y_pred)"
   ]
  },
  {
   "cell_type": "code",
   "execution_count": 76,
   "id": "d7822918",
   "metadata": {},
   "outputs": [],
   "source": []
  },
  {
   "cell_type": "code",
   "execution_count": 78,
   "id": "5710f84e",
   "metadata": {},
   "outputs": [
    {
     "name": "stdout",
     "output_type": "stream",
     "text": [
      "Степень полинома = 15 \n",
      "Ошибка = 0.054\n"
     ]
    }
   ],
   "source": []
  },
  {
   "cell_type": "code",
   "execution_count": 79,
   "id": "df1ded8b",
   "metadata": {},
   "outputs": [
    {
     "data": {
      "text/plain": [
       "[<matplotlib.lines.Line2D at 0x23f5587d2b0>]"
      ]
     },
     "execution_count": 79,
     "metadata": {},
     "output_type": "execute_result"
    },
    {
     "data": {
      "image/png": "[encoded data removed]",
      "text/plain": [
       "<Figure size 640x480 with 1 Axes>"
      ]
     },
     "metadata": {},
     "output_type": "display_data"
    }
   ],
   "source": []
  }
 ],
 "metadata": {
  "kernelspec": {
   "display_name": "Python 3 (ipykernel)",
   "language": "python",
   "name": "python3"
  },
  "language_info": {
   "codemirror_mode": {
    "name": "ipython",
    "version": 3
   },
   "file_extension": ".py",
   "mimetype": "text/x-python",
   "name": "python",
   "nbconvert_exporter": "python",
   "pygments_lexer": "ipython3",
   "version": "3.9.13"
  }
 },
 "nbformat": 4,
 "nbformat_minor": 5
}
