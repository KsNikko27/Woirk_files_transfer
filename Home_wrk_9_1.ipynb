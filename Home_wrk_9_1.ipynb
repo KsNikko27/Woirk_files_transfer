{
  "nbformat": 4,
  "nbformat_minor": 0,
  "metadata": {
    "kernelspec": {
      "display_name": "Python 3",
      "language": "python",
      "name": "python3"
    },
    "language_info": {
      "codemirror_mode": {
        "name": "ipython",
        "version": 3
      },
      "file_extension": ".py",
      "mimetype": "text/x-python",
      "name": "python",
      "nbconvert_exporter": "python",
      "pygments_lexer": "ipython3",
      "version": "3.6.3"
    },
    "colab": {
      "provenance": [],
      "include_colab_link": true
    }
  },
  "cells": [
    {
      "cell_type": "markdown",
      "metadata": {
        "id": "view-in-github",
        "colab_type": "text"
      },
      "source": [
        "<a href=\"https://colab.research.google.com/github/KsNikko27/Woirk_files_transfer/blob/main/Home_wrk_9_1.ipynb\" target=\"_parent\"><img src=\"https://colab.research.google.com/assets/colab-badge.svg\" alt=\"Open In Colab\"/></a>"
      ]
    },
    {
      "cell_type": "markdown",
      "metadata": {
        "id": "pRBQX713AyOY"
      },
      "source": [
        "# Boosting\n",
        "\n",
        "На примерах урока мы увидели, что алгоритм XGBoost работает лучше и быстрее относительно GradientBoosting и AdaBoost. Поэтому в этом домашнем задании предлагаем посмотреть, какие еще интересные методы существуют в библиотеке для реализацией этого алгоритма."
      ]
    },
    {
      "cell_type": "markdown",
      "metadata": {
        "id": "DUWasdEtAyOZ"
      },
      "source": [
        "### Важность признаков\n",
        "\n",
        "Признаки, которые используют для обучения модели, оказывают большое влияние на ее качество. Неинформативные или слабо информативные признаки могут существенно понизить эффективность модели.\n",
        "\n",
        "Отбор признаков – процесс выбора признаков, имеющих наиболее тесные взаимосвязи с целевой переменной. Он позволяет:\n",
        "- уменьшить переобучение: чем меньше избыточных данных, тем меньше возможностей для модели принимать решения на основе «шума»\n",
        "- повысить точность: чем меньше противоречивых данных, тем выше точность\n",
        "- сократить время обучения: чем меньше данных, тем быстрее обучается модель\n",
        "\n",
        "В библиотеке sckit-learn есть раздел feature_selection, который помогает автоматизировать этот процесс на основе методов статистики, линейной алгебры и некоторых специальных алгоритмов, таких как уже знакомый нам PCA - метод главных компонент.\n",
        "\n",
        "Некоторые из таких методов реализованы в библиотеках для конкретных алгоритмов, к которым относится и xgboost.\n",
        "\n",
        "Сгенерируем синтетические данные. "
      ]
    },
    {
      "cell_type": "code",
      "metadata": {
        "id": "m_PZVtdLAyOa"
      },
      "source": [
        "from sklearn.datasets import make_classification\n",
        "from sklearn.model_selection import train_test_split\n",
        "import pandas as pd\n",
        "\n",
        "x, y = make_classification(n_samples=1000, n_features=15, n_informative=7, \n",
        "                           n_redundant=3, n_repeated=3, random_state=17)\n",
        "\n",
        "x_train, x_test, y_train, y_test = train_test_split(x, y, test_size=.3, stratify=y, random_state=17)\n",
        "\n",
        "features = pd.DataFrame(x)\n",
        "targets = pd.Series(y)\n",
        "\n",
        "scat_mtrx = pd.plotting.scatter_matrix(features, c=targets, figsize=(25, 25), marker='o',\n",
        "                                       hist_kwds={'bins': 20}, s=40, alpha=.8)"
      ],
      "execution_count": null,
      "outputs": []
    },
    {
      "cell_type": "markdown",
      "metadata": {
        "id": "I4Fxn5SmAyOd"
      },
      "source": [
        "Теперь приступим к построению модели. В уроке мы разбирали алгоритм xgboost в интерфейсе библиотеки sklearn: для обучения использовали метод *fit* модели, а для предсказаний - *predict*.\n",
        "\n",
        "Здесь будем использовать интерфейс библиотеки xgboost.\n",
        "\n",
        "В этом интерфейсе для обучения XGBoost данные должны быть представлены в виде объекта DMatrix - внутренней структуры данных, используемой библиотекой  XGBoost, которая оптимизирована как по эффективности работы с памятью, так и по скорости обучения.\n",
        "\n",
        "Также заранее определим параметры алгоритма:\n",
        "- бинарная классификация - 'objective': 'binary:logistic'\n",
        "- глубина деревьев - 'max_depth': 3\n",
        "- шаг градиентного спуска (скорость обучения) - 'eta': 0.1\n",
        "- количество итераций бустинга - num_rounds = 60"
      ]
    },
    {
      "cell_type": "code",
      "metadata": {
        "id": "ofz-UYaUAyOe"
      },
      "source": [
        "import xgboost as xgb\n",
        "\n",
        "dtrain = xgb.DMatrix(x_train, y_train)\n",
        "dtest = xgb.DMatrix(x_test, y_test)\n",
        "\n",
        "params = {'objective': 'binary:logistic',\n",
        "          'max_depth': 3,\n",
        "          'eta': 0.1}\n",
        "\n",
        "num_rounds = 60"
      ],
      "execution_count": 15,
      "outputs": []
    },
    {
      "cell_type": "code",
      "source": [],
      "metadata": {
        "id": "RIhVJAiUGoIV",
        "outputId": "252c9fe0-2472-4c02-cbf5-e47efdba0f86",
        "colab": {
          "base_uri": "https://localhost:8080/"
        }
      },
      "execution_count": 23,
      "outputs": [
        {
          "output_type": "execute_result",
          "data": {
            "text/plain": [
              "<xgboost.core.DMatrix at 0x7f816ab72880>"
            ]
          },
          "metadata": {},
          "execution_count": 23
        }
      ]
    },
    {
      "cell_type": "markdown",
      "metadata": {
        "id": "p74BAqoEAyOg"
      },
      "source": [
        "### 1.\n",
        "С помощью метода *train* библиотеки xgboost обучите модель. Передайте в метод вышеопределенные словарь параметров, тренировочные данные в формате DMatrix и число итераций."
      ]
    },
    {
      "cell_type": "code",
      "metadata": {
        "id": "FUUdoZFwAyOh"
      },
      "source": [
        "xgb_model = xgb.train(params=params, dtrain=dtrain, num_boost_round=num_rounds)"
      ],
      "execution_count": 7,
      "outputs": []
    },
    {
      "cell_type": "markdown",
      "metadata": {
        "id": "wjMmLTVdAyOj"
      },
      "source": [
        "### 2.\n",
        "В методе *train* есть параметр *evals* - список валидационных наборов данных, для которых будут оцениваться показатели во время обучения. Они помогут нам отслеживать качество модели для каждой итерации.\n",
        "\n",
        "Создайте список из двух кортежей (dtest, 'test') и (dtrain, 'train'). Снова определите метод train аналогично предыдущему пункту, добавив этот список в качестве параметра."
      ]
    },
    {
      "cell_type": "code",
      "metadata": {
        "id": "V8ejlm9GAyOk"
      },
      "source": [
        "evals = (dtest,'test'),(dtrain,'train')\n",
        "xgb_model = xgb.train(params=params, dtrain=dtrain, num_boost_round=num_rounds, evals=evals)"
      ],
      "execution_count": null,
      "outputs": []
    },
    {
      "cell_type": "markdown",
      "metadata": {
        "id": "bAuRFGCPAyOm"
      },
      "source": [
        "### 3.\n",
        "В качестве метрики оценки важности признаков в XGBoost используется F-score, которая вычисляется на основе того, как часто делалось разбиение по данному признаку.\n",
        "\n",
        "Используйте метод plot_importance библиотеки XGBoost. Передайте туда в качестве параметра xgb_model."
      ]
    },
    {
      "cell_type": "code",
      "metadata": {
        "id": "pVfCI2zfAyOn",
        "colab": {
          "base_uri": "https://localhost:8080/",
          "height": 313
        },
        "outputId": "2c49fffc-6abd-4ebf-c413-1155e350fab6"
      },
      "source": [
        "xgb.plot_importance(xgb_model)"
      ],
      "execution_count": 17,
      "outputs": [
        {
          "output_type": "execute_result",
          "data": {
            "text/plain": [
              "<matplotlib.axes._subplots.AxesSubplot at 0x7f815eb40dc0>"
            ]
          },
          "metadata": {},
          "execution_count": 17
        },
        {
          "output_type": "display_data",
          "data": {
            "text/plain": [
              "<Figure size 432x288 with 1 Axes>"
            ],
            "image/png": "[encoded data removed]"
          },
          "metadata": {
            "needs_background": "light"
          }
        }
      ]
    },
    {
      "cell_type": "markdown",
      "metadata": {
        "id": "WI6kkR0IAyOq"
      },
      "source": [
        "По полученным данным можно посмотреть, какие признаки являются излишними и их можно убрать, а какие наиболее важны при обучении модели, т.е. используются чаще всего."
      ]
    },
    {
      "cell_type": "markdown",
      "metadata": {
        "id": "nhjl-S23AyOr"
      },
      "source": [
        "### Несбалансированные выборки\n",
        "\n",
        "Мы уже упоминали о том, что работа с несбалансированными выборками несколько отличается от работы с идеальными датасетами. В XGBoost есть возможность несколько упростить эту работу: \n",
        "- задать большие веса некоторым объектам при инициализации DMatrix\n",
        "- контролировать соотношение числа объектов разных классов с помощью параметра set_pos_weight"
      ]
    },
    {
      "cell_type": "markdown",
      "metadata": {
        "id": "L7WtGpyuAyOr"
      },
      "source": [
        "Сгенерируем несбалансированную выборку."
      ]
    },
    {
      "cell_type": "code",
      "metadata": {
        "id": "N-BF3BssAyOr",
        "colab": {
          "base_uri": "https://localhost:8080/"
        },
        "outputId": "344fb868-f42c-4b98-a0a5-81ab32f60c84"
      },
      "source": [
        "x, y = make_classification(n_samples=1000, n_features=7, n_informative=3, n_redundant=3, \n",
        "                           n_classes=2, weights=[.9, .1], random_state=20)\n",
        "\n",
        "print(f'There are {sum(y)} positive instances')"
      ],
      "execution_count": 11,
      "outputs": [
        {
          "output_type": "stream",
          "name": "stdout",
          "text": [
            "There are 104 positive instances\n"
          ]
        }
      ]
    },
    {
      "cell_type": "markdown",
      "metadata": {
        "id": "jnCnslvjAyOv"
      },
      "source": [
        "### 4.\n",
        "Разбейте выборку на тренировочную и тестовую, соблюдая стратификацию по *y* и размер тестового датасета 0.3. Создайте объекты DMatrix для тренировочной и тестовой выборок."
      ]
    },
    {
      "cell_type": "code",
      "metadata": {
        "id": "we7wd-rQAyOw"
      },
      "source": [
        "from sklearn.model_selection import train_test_split"
      ],
      "execution_count": 19,
      "outputs": []
    },
    {
      "cell_type": "code",
      "metadata": {
        "id": "BDyKDN9uAyO0"
      },
      "source": [
        "# ваш \n",
        "X_train, X_test, Y_train, Y_test = train_test_split(x,y,test_size=0.3, stratify=y, random_state=17)"
      ],
      "execution_count": 55,
      "outputs": []
    },
    {
      "cell_type": "code",
      "source": [],
      "metadata": {
        "id": "zNbIeay4GMBA"
      },
      "execution_count": null,
      "outputs": []
    },
    {
      "cell_type": "markdown",
      "metadata": {
        "id": "MD9q0ogkAyO4"
      },
      "source": [
        "Зададим параметры для алгоритма и количество итераций."
      ]
    },
    {
      "cell_type": "code",
      "metadata": {
        "id": "Qfltg1nxAyO5"
      },
      "source": [
        "dtrain = xgb.DMatrix(X_train,Y_train)\n",
        "dtest = xgb.DMatrix(X_test,Y_test)\n",
        "params = {'objective': 'binary:logistic', \n",
        "          'max_depth': 1, \n",
        "          'silent': 1, \n",
        "          'eta': 1}\n",
        "\n",
        "num_rounds = 30"
      ],
      "execution_count": 56,
      "outputs": []
    },
    {
      "cell_type": "markdown",
      "metadata": {
        "id": "Xndygs2aAyPA"
      },
      "source": [
        "### 5.\n",
        "С помощью метода train обучите модель. С помощью метода predict получите предсказания для тестовых данных. Так как алгоритм возвращает вероятности, получите бинарную матрицу значений этих вероятностей, элементы которой при полученной вероятности > 0.5 равны True, а при вероятности <= 0.5 равны False. Выведите эту матрицу."
      ]
    },
    {
      "cell_type": "code",
      "metadata": {
        "id": "efqPQJBDAyPB"
      },
      "source": [
        "# ваш код\n",
        "xgb_model = xgb.train(params=params,dtrain=dtrain, num_boost_round=num_rounds)\n",
        "d_pred = xgb_model.predict(dtest) > 0.5\n",
        "d_pred "
      ],
      "execution_count": null,
      "outputs": []
    },
    {
      "cell_type": "markdown",
      "metadata": {
        "id": "X7pSgFnLAyPG"
      },
      "source": [
        "### 6.\n",
        "Выведите матрицу ошибок, точность и полноту для полученных предсказаний."
      ]
    },
    {
      "cell_type": "code",
      "metadata": {
        "id": "hNqCdKNiAyPH"
      },
      "source": [
        "from sklearn.metrics import confusion_matrix, precision_score, recall_score, classification_report"
      ],
      "execution_count": 36,
      "outputs": []
    },
    {
      "cell_type": "code",
      "metadata": {
        "id": "yczK3j6zAyPL",
        "colab": {
          "base_uri": "https://localhost:8080/"
        },
        "outputId": "eaadcf21-7e98-49f1-a52d-9e266b9f0727"
      },
      "source": [
        "# ваш код\n",
        "print(classification_report(d_pred, Y_test))\n",
        "recall_score(d_pred, Y_test)"
      ],
      "execution_count": 60,
      "outputs": [
        {
          "output_type": "stream",
          "name": "stdout",
          "text": [
            "              precision    recall  f1-score   support\n",
            "\n",
            "       False       0.97      0.94      0.96       278\n",
            "        True       0.48      0.68      0.57        22\n",
            "\n",
            "    accuracy                           0.92       300\n",
            "   macro avg       0.73      0.81      0.76       300\n",
            "weighted avg       0.94      0.92      0.93       300\n",
            "\n"
          ]
        },
        {
          "output_type": "execute_result",
          "data": {
            "text/plain": [
              "0.6818181818181818"
            ]
          },
          "metadata": {},
          "execution_count": 60
        }
      ]
    },
    {
      "cell_type": "markdown",
      "metadata": {
        "id": "37a2ydscAyPO"
      },
      "source": [
        "Видно, что полнота гораздо ниже точности, т.е. алгоритм плохо распознает объекты класса, который представлен меньшим количеством экземпляров."
      ]
    },
    {
      "cell_type": "markdown",
      "metadata": {
        "id": "4N9CT2zLAyPO"
      },
      "source": [
        "Теперь зададим вручную веса для экземпляров классов."
      ]
    },
    {
      "cell_type": "code",
      "metadata": {
        "id": "FJsDoqsaAyPP"
      },
      "source": [
        "import numpy as np\n",
        "\n",
        "weights = np.zeros(len(y_train))\n",
        "weights[y_train == 0] = 1\n",
        "weights[y_train == 1] = 5"
      ],
      "execution_count": 61,
      "outputs": []
    },
    {
      "cell_type": "code",
      "source": [
        "weights"
      ],
      "metadata": {
        "id": "-9aHGe7kKLy0"
      },
      "execution_count": null,
      "outputs": []
    },
    {
      "cell_type": "markdown",
      "metadata": {
        "id": "aI6T-lS2AyPR"
      },
      "source": [
        "### 7.\n",
        "Повторите то же, что делали ранее: создайте объекты DMatrix - для тренировочных данных укажите веса, а для тестовых оставьте только сами данные; обучите модель и получите ее предсказания так же, как и в предыдущем случае. Выведите матрицу ошибок, точность и полноту."
      ]
    },
    {
      "cell_type": "code",
      "metadata": {
        "id": "dvLHkI46AyPS",
        "colab": {
          "base_uri": "https://localhost:8080/"
        },
        "outputId": "fd488b63-609a-43b0-b1f3-dc70d178bace"
      },
      "source": [
        "# ваш код\n",
        "dtrain = xgb.DMatrix(X_train,Y_train,weight=weights)\n",
        "dtest = xgb.DMatrix(X_test,Y_test)\n",
        "xgb_model = xgb.train(params=params,dtrain=dtrain, num_boost_round=num_rounds)\n",
        "d_pred = xgb_model.predict(dtest) > 0.5\n",
        "print(classification_report(d_pred, Y_test))"
      ],
      "execution_count": 63,
      "outputs": [
        {
          "output_type": "stream",
          "name": "stdout",
          "text": [
            "              precision    recall  f1-score   support\n",
            "\n",
            "       False       0.98      0.95      0.96       279\n",
            "        True       0.52      0.76      0.62        21\n",
            "\n",
            "    accuracy                           0.93       300\n",
            "   macro avg       0.75      0.85      0.79       300\n",
            "weighted avg       0.95      0.93      0.94       300\n",
            "\n"
          ]
        }
      ]
    },
    {
      "cell_type": "markdown",
      "metadata": {
        "id": "HErMGHkrAyPT"
      },
      "source": [
        "Можем увидеть, что значение полноты увеличилось, но при этом точность уменьшилась. Если нам важны обе метрики, то пригодится параметр scale_pos_weight в XGBoost.\n",
        "\n",
        "### 8.\n",
        "Снова создайте объекты DMatrix, как в первом случае (без задания весов)."
      ]
    },
    {
      "cell_type": "code",
      "metadata": {
        "id": "U9epTz89AyPU"
      },
      "source": [
        "# ваш код\n",
        "dtrain = xgb.DMatrix(X_train,Y_train)\n",
        "dtest = xgb.DMatrix(X_test,Y_test)\n",
        "params = {'objective': 'binary:logistic', \n",
        "          'max_depth': 1, \n",
        "          'silent': 1, \n",
        "          'eta': 1}\n",
        "\n",
        "num_rounds = 30"
      ],
      "execution_count": 64,
      "outputs": []
    },
    {
      "cell_type": "markdown",
      "metadata": {
        "id": "hwJvz9CtAyPV"
      },
      "source": [
        "### 9.\n",
        "Инициализируйте параметр scale_pos_weight как соотношение числа объектов двух классов. Для этого число объектов класса 0 разделите на число объектов класса 1. Добавьте в словарь параметров алгоритма params пару с ключом 'scale_pos_weight' и значением, равным полученному соотношению классов."
      ]
    },
    {
      "cell_type": "code",
      "metadata": {
        "id": "aIbO61viAyPW"
      },
      "source": [
        "# ваш код\n",
        "weight = X_train[Y_train==0].shape[0]/X_train[Y_train==1].shape[0]"
      ],
      "execution_count": 70,
      "outputs": []
    },
    {
      "cell_type": "code",
      "source": [
        "params = {'objective':'binary:logistic',\n",
        "          'max_depth': 1,\n",
        "          'silent': 1,\n",
        "          'eta': 1,\n",
        "          'scale_pos_weight':2}"
      ],
      "metadata": {
        "id": "qr550lZ3LbAq"
      },
      "execution_count": 73,
      "outputs": []
    },
    {
      "cell_type": "markdown",
      "metadata": {
        "id": "ftccBOCmAyPY"
      },
      "source": [
        "### 10.\n",
        "Обучите модель с параметрами params и получите ее предсказания для тестовой выборки. Выведите матрицу ошибок, точность и полноту.**"
      ]
    },
    {
      "cell_type": "code",
      "metadata": {
        "id": "HzjcOMB_AyPZ",
        "colab": {
          "base_uri": "https://localhost:8080/"
        },
        "outputId": "e743bd66-df45-4e53-9142-ab008617a7f5"
      },
      "source": [
        "# ваш код\n",
        "params = {'objective':'binary:logistic',\n",
        "          'max_depth': 1,\n",
        "          'silent': 1,\n",
        "          'eta': 1,\n",
        "          'scale_pos_weight':weight}\n",
        "xgb_model = xgb.train(params=params,dtrain=dtrain, num_boost_round=num_rounds)\n",
        "d_pred = xgb_model.predict(dtest) > 0.5\n",
        "print(classification_report(d_pred, Y_test))"
      ],
      "execution_count": 112,
      "outputs": [
        {
          "output_type": "stream",
          "name": "stdout",
          "text": [
            "              precision    recall  f1-score   support\n",
            "\n",
            "       False       0.89      0.98      0.93       245\n",
            "        True       0.81      0.45      0.58        55\n",
            "\n",
            "    accuracy                           0.88       300\n",
            "   macro avg       0.85      0.72      0.76       300\n",
            "weighted avg       0.87      0.88      0.87       300\n",
            "\n"
          ]
        }
      ]
    },
    {
      "cell_type": "markdown",
      "metadata": {
        "id": "dSk7-YCjAyPb"
      },
      "source": [
        "Значение параметра scale_pos_weight надо выбирать в зависимости от желаемого соотношения между точностью и полнотой. Например, если нам нужны примерно одинаковые значения precision и recall, в данном случае следует уменьшить полученное значение параметра в несколько раз."
      ]
    }
  ]
}