{
 "cells": [
  {
   "cell_type": "code",
   "execution_count": 229,
   "id": "1ca388df",
   "metadata": {},
   "outputs": [],
   "source": [
    "import numpy as np\n",
    "import pandas as pd\n",
    "from sklearn.linear_model import LinearRegression\n",
    "from sklearn.linear_model import Ridge\n",
    "from sklearn.linear_model import Lasso\n",
    "from sklearn.metrics import mean_squared_error\n",
    "from sklearn.model_selection import train_test_split\n",
    "from matplotlib import pyplot as plt\n",
    "from numpy.linalg import norm\n",
    "%matplotlib inline"
   ]
  },
  {
   "cell_type": "code",
   "execution_count": null,
   "id": "a07ba3bd",
   "metadata": {},
   "outputs": [],
   "source": []
  },
  {
   "cell_type": "code",
   "execution_count": 3,
   "id": "d85e79be",
   "metadata": {},
   "outputs": [
    {
     "data": {
      "text/html": [
       "<div>\n",
       "<style scoped>\n",
       "    .dataframe tbody tr th:only-of-type {\n",
       "        vertical-align: middle;\n",
       "    }\n",
       "\n",
       "    .dataframe tbody tr th {\n",
       "        vertical-align: top;\n",
       "    }\n",
       "\n",
       "    .dataframe thead th {\n",
       "        text-align: right;\n",
       "    }\n",
       "</style>\n",
       "<table border=\"1\" class=\"dataframe\">\n",
       "  <thead>\n",
       "    <tr style=\"text-align: right;\">\n",
       "      <th></th>\n",
       "      <th>x_train</th>\n",
       "      <th>y_train</th>\n",
       "    </tr>\n",
       "  </thead>\n",
       "  <tbody>\n",
       "    <tr>\n",
       "      <th>0</th>\n",
       "      <td>0.138368</td>\n",
       "      <td>0.838812</td>\n",
       "    </tr>\n",
       "    <tr>\n",
       "      <th>1</th>\n",
       "      <td>0.157237</td>\n",
       "      <td>0.889313</td>\n",
       "    </tr>\n",
       "    <tr>\n",
       "      <th>2</th>\n",
       "      <td>0.188684</td>\n",
       "      <td>1.430040</td>\n",
       "    </tr>\n",
       "    <tr>\n",
       "      <th>3</th>\n",
       "      <td>0.685553</td>\n",
       "      <td>1.717309</td>\n",
       "    </tr>\n",
       "    <tr>\n",
       "      <th>4</th>\n",
       "      <td>0.874237</td>\n",
       "      <td>2.032588</td>\n",
       "    </tr>\n",
       "  </tbody>\n",
       "</table>\n",
       "</div>"
      ],
      "text/plain": [
       "    x_train   y_train\n",
       "0  0.138368  0.838812\n",
       "1  0.157237  0.889313\n",
       "2  0.188684  1.430040\n",
       "3  0.685553  1.717309\n",
       "4  0.874237  2.032588"
      ]
     },
     "execution_count": 3,
     "metadata": {},
     "output_type": "execute_result"
    }
   ],
   "source": [
    "data = pd.read_csv(\"non_linear.csv\")\n",
    "data.head()"
   ]
  },
  {
   "cell_type": "code",
   "execution_count": 5,
   "id": "1ae1da7b",
   "metadata": {},
   "outputs": [],
   "source": [
    "def generate_degree(data_list:list, degree: int):\n",
    "    return np.array([\n",
    "        data_list**n for n in range(1, degree + 1)\n",
    "    ]).T"
   ]
  },
  {
   "cell_type": "code",
   "execution_count": 68,
   "id": "d09c7ff3",
   "metadata": {},
   "outputs": [
    {
     "data": {
      "text/plain": [
       "(50, 8)"
      ]
     },
     "execution_count": 68,
     "metadata": {},
     "output_type": "execute_result"
    }
   ],
   "source": [
    "degree = 8\n",
    "X = generate_degree(data['x_train'], degree)\n",
    "\n",
    "X.shape"
   ]
  },
  {
   "cell_type": "code",
   "execution_count": 69,
   "id": "8016ecb7",
   "metadata": {},
   "outputs": [
    {
     "data": {
      "text/plain": [
       "(50,)"
      ]
     },
     "execution_count": 69,
     "metadata": {},
     "output_type": "execute_result"
    }
   ],
   "source": [
    "Y = data.y_train.values # для получения именно Numpy массива чисел\n",
    "Y.shape"
   ]
  },
  {
   "cell_type": "code",
   "execution_count": 70,
   "id": "94906ff1",
   "metadata": {},
   "outputs": [],
   "source": [
    "x_train, x_val, y_train, y_val = train_test_split(X, Y, test_size=0.2, random_state=10)"
   ]
  },
  {
   "cell_type": "code",
   "execution_count": 71,
   "id": "507ad0fb",
   "metadata": {},
   "outputs": [
    {
     "name": "stderr",
     "output_type": "stream",
     "text": [
      "C:\\Users\\naga3\\miniconda3\\envs\\tf\\lib\\site-packages\\sklearn\\linear_model\\_ridge.py:212: LinAlgWarning: Ill-conditioned matrix (rcond=7.9779e-18): result may not be accurate.\n",
      "  return linalg.solve(A, Xy, assume_a=\"pos\", overwrite_a=True).T\n"
     ]
    }
   ],
   "source": [
    "model = Ridge(alpha=0).fit(x_train, y_train)"
   ]
  },
  {
   "cell_type": "code",
   "execution_count": 72,
   "id": "e1b46d6e",
   "metadata": {},
   "outputs": [
    {
     "name": "stdout",
     "output_type": "stream",
     "text": [
      "Ошибка на обучаемой выборке 0.0521, \n",
      "Ошибка на тестовой выборке 0.1191 \n"
     ]
    }
   ],
   "source": [
    "y_pred = model.predict(x_val)\n",
    "y_pred_train = model.predict(x_train)\n",
    "err_train = mean_squared_error(y_pred_train, y_train)\n",
    "err_val = mean_squared_error(y_pred, y_val)\n",
    "print(\"Ошибка на обучаемой выборке %.4f, \\nОшибка на тестовой выборке %.4f \"%(err_train, err_val))"
   ]
  },
  {
   "cell_type": "code",
   "execution_count": 183,
   "id": "179c191b",
   "metadata": {},
   "outputs": [
    {
     "name": "stdout",
     "output_type": "stream",
     "text": [
      "Ошибка на обучаемой выборке 0.070, \n",
      "Ошибка на тестовой выборке 0.079 \n"
     ]
    },
    {
     "data": {
      "text/plain": [
       "<BarContainer object of 10 artists>"
      ]
     },
     "execution_count": 183,
     "metadata": {},
     "output_type": "execute_result"
    },
    {
     "data": {
      "image/png": "[encoded data removed]",
      "text/plain": [
       "<Figure size 640x480 with 1 Axes>"
      ]
     },
     "metadata": {},
     "output_type": "display_data"
    }
   ],
   "source": [
    "degree =8\n",
    "X = generate_degree(data['x_train'], degree)\n",
    "x_train, x_val, y_train, y_val = train_test_split(X, Y, test_size=0.2, random_state=10)\n",
    "model = Ridge(alpha=0.8).fit(x_train, y_train)\n",
    "y_pred = model.predict(x_val)\n",
    "y_pred_train = model.predict(x_train)\n",
    "err_train = mean_squared_error(y_pred_train, y_train)\n",
    "err_val = mean_squared_error(y_pred, y_val)\n",
    "\n",
    "print(\"Ошибка на обучаемой выборке %.3f, \\nОшибка на тестовой выборке %.3f \"%(err_train, err_val))\n",
    "plt.bar(y_val, y_pred, 0.25)"
   ]
  },
  {
   "cell_type": "code",
   "execution_count": 192,
   "id": "0a5fa387",
   "metadata": {
    "scrolled": false
   },
   "outputs": [
    {
     "name": "stdout",
     "output_type": "stream",
     "text": [
      "Ошибка на обучаемой выборке 0.155, \n",
      "Ошибка на тестовой выборке 0.093 \n"
     ]
    },
    {
     "name": "stderr",
     "output_type": "stream",
     "text": [
      "C:\\Users\\naga3\\miniconda3\\envs\\tf\\lib\\site-packages\\sklearn\\linear_model\\_coordinate_descent.py:648: ConvergenceWarning: Objective did not converge. You might want to increase the number of iterations, check the scale of the features or consider increasing regularisation. Duality gap: 3.713e+00, tolerance: 2.448e-03\n",
      "  model = cd_fast.enet_coordinate_descent(\n"
     ]
    },
    {
     "data": {
      "image/png": "[encoded data removed]",
      "text/plain": [
       "<Figure size 640x480 with 1 Axes>"
      ]
     },
     "metadata": {},
     "output_type": "display_data"
    },
    {
     "data": {
      "text/plain": [
       "(array([[2., 2., 0., 0., 0., 0., 0., 0., 0., 0.],\n",
       "        [0., 0., 0., 0., 0., 0., 0., 0., 0., 0.],\n",
       "        [0., 0., 0., 0., 1., 0., 0., 0., 0., 0.],\n",
       "        [0., 0., 0., 0., 0., 0., 0., 0., 0., 0.],\n",
       "        [0., 0., 0., 0., 0., 0., 2., 0., 0., 0.],\n",
       "        [0., 0., 0., 0., 0., 0., 0., 0., 0., 0.],\n",
       "        [0., 0., 0., 0., 0., 0., 0., 0., 0., 0.],\n",
       "        [0., 0., 0., 0., 0., 0., 0., 0., 0., 0.],\n",
       "        [0., 0., 0., 0., 0., 0., 0., 0., 0., 1.],\n",
       "        [0., 0., 0., 0., 0., 0., 0., 0., 0., 2.]]),\n",
       " array([0.06307566, 0.25063827, 0.43820087, 0.62576348, 0.81332609,\n",
       "        1.0008887 , 1.1884513 , 1.37601391, 1.56357652, 1.75113913,\n",
       "        1.93870174]),\n",
       " array([-0.01592342,  0.153555  ,  0.32303343,  0.49251185,  0.66199028,\n",
       "         0.8314687 ,  1.00094713,  1.17042555,  1.33990398,  1.50938241,\n",
       "         1.67886083]),\n",
       " <matplotlib.collections.QuadMesh at 0x1a3783d8610>)"
      ]
     },
     "execution_count": 192,
     "metadata": {},
     "output_type": "execute_result"
    },
    {
     "data": {
      "image/png": "[encoded data removed]",
      "text/plain": [
       "<Figure size 640x480 with 1 Axes>"
      ]
     },
     "metadata": {},
     "output_type": "display_data"
    }
   ],
   "source": [
    "degree =8\n",
    "X_1 = generate_degree(data['x_train'], degree)\n",
    "x_train_1, x_val_1, y_train_1, y_val_1 = train_test_split(X_1, Y, test_size=0.2, random_state=10)\n",
    "model_1 = Lasso(alpha=0.8).fit(x_train_1, y_train_1)\n",
    "y_pred_1 = model_1.predict(x_val_1)\n",
    "y_pred_train_1 = model_1.predict(x_train_1)\n",
    "err_train_1 = mean_squared_error(y_pred_train_1, y_train_1)\n",
    "err_val_1 = mean_squared_error(y_pred_1, y_val_1)\n",
    "\n",
    "print(\"Ошибка на обучаемой выборке %.3f, \\nОшибка на тестовой выборке %.3f \"%(err_train_1, err_val_1))\n",
    "plt.bar(y_val_1, y_pred_1, 0.25)\n",
    "plt.show()\n",
    "plt.hist2d(y_pred, y_pred_1)"
   ]
  },
  {
   "cell_type": "code",
   "execution_count": null,
   "id": "a33424d6",
   "metadata": {},
   "outputs": [],
   "source": []
  },
  {
   "cell_type": "code",
   "execution_count": 236,
   "id": "c3452af2",
   "metadata": {},
   "outputs": [],
   "source": [
    "degree =12"
   ]
  },
  {
   "cell_type": "code",
   "execution_count": 194,
   "id": "65fda417",
   "metadata": {},
   "outputs": [],
   "source": [
    "def generate_degree(data_list:list, degree: int):\n",
    "    return np.array([\n",
    "        data_list**n for n in range(1, degree + 1)\n",
    "    ]).T"
   ]
  },
  {
   "cell_type": "code",
   "execution_count": 279,
   "id": "be4d6dd3",
   "metadata": {},
   "outputs": [],
   "source": [
    "def train_polynomial(degree, data):\n",
    "    \"\"\"Генерим данные, тренируем модель  \n",
    "    дополнительно рисуем график\n",
    "    \"\"\"\n",
    "    X = generate_degree(data['x_train'], degree)\n",
    "    y = data.y_train.values\n",
    "    X_train, X_valid, y_train, y_valid = train_test_split(X, y, test_size=0.2, random_state=10)\n",
    "    model = LinearRegression().fit(X_train, y_train)\n",
    "    y_pred = model.predict(X_valid)\n",
    "    y_pred_train = model.predict(X_train)\n",
    "    error_valid = mean_squared_error(y_valid, y_pred)\n",
    "    error_train = mean_squared_error(y_train, y_pred_train)\n",
    "    print(\n",
    "        \"Степень полинома %d\\nОшибка на валидации %.3f\\nОшибка на обучении %.3f\" %\n",
    "        (degree, error_valid, error_train)\n",
    "    )\n",
    "    order_test = np.argsort(X_valid[:,0])\n",
    "    plt.scatter(X_valid[:,0][order_test], y_valid[order_test], 40, 'r', 'o', alpha=0.8)\n",
    "    \n",
    "    print(\"Норма вектора весов \\t||w|| = %.2f\" % (norm(model.coef_)))\n",
    "    # визуализируем решение\n",
    "    x_linspace = np.linspace(data['x_train'].min(), data['x_train'].max(), num=100)\n",
    "    y_linspace = model.predict(generate_degree(x_linspace, degree))\n",
    "    plt.plot(x_linspace, y_linspace)\n",
    "    \n",
    "    return error_valid, error_train, norm(model.coef_)\n",
    "    \n",
    "degrees = []\n",
    "valid_err = []\n",
    "train_err = []\n",
    "w_norm = []\n"
   ]
  },
  {
   "cell_type": "code",
   "execution_count": 280,
   "id": "6390aba0",
   "metadata": {},
   "outputs": [
    {
     "name": "stdout",
     "output_type": "stream",
     "text": [
      "Степень полинома 3\n",
      "Ошибка на валидации 0.051\n",
      "Ошибка на обучении 0.077\n",
      "Норма вектора весов \t||w|| = 2.19\n"
     ]
    },
    {
     "data": {
      "image/png": "[encoded data removed]",
      "text/plain": [
       "<Figure size 640x480 with 1 Axes>"
      ]
     },
     "metadata": {},
     "output_type": "display_data"
    }
   ],
   "source": [
    "degree = 3\n",
    "err_val, err_train, coef_norm = train_polynomial(degree, data)\n",
    "\n",
    "degrees.append(degree)\n",
    "valid_err.append(err_val)\n",
    "train_err.append(err_train)\n",
    "w_norm.append(coef_norm)"
   ]
  },
  {
   "cell_type": "code",
   "execution_count": 228,
   "id": "bf0c5eb1",
   "metadata": {},
   "outputs": [
    {
     "data": {
      "text/plain": [
       "array([6, 9, 8, 5, 1, 7, 0, 3, 2, 4], dtype=int64)"
      ]
     },
     "execution_count": 228,
     "metadata": {},
     "output_type": "execute_result"
    }
   ],
   "source": [
    "np.argsort(x_val[:,0])"
   ]
  }
 ],
 "metadata": {
  "kernelspec": {
   "display_name": "Python 3 (ipykernel)",
   "language": "python",
   "name": "python3"
  },
  "language_info": {
   "codemirror_mode": {
    "name": "ipython",
    "version": 3
   },
   "file_extension": ".py",
   "mimetype": "text/x-python",
   "name": "python",
   "nbconvert_exporter": "python",
   "pygments_lexer": "ipython3",
   "version": "3.9.13"
  }
 },
 "nbformat": 4,
 "nbformat_minor": 5
}
