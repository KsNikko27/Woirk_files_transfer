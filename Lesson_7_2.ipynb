{
 "cells": [
  {
   "cell_type": "code",
   "execution_count": 155,
   "id": "e2d4e5b9",
   "metadata": {},
   "outputs": [],
   "source": [
    "from sklearn.metrics.pairwise import euclidean_distances\n",
    "import matplotlib.pyplot as plt\n",
    "%matplotlib inline\n",
    "from scipy.spatial import distance\n",
    "from sklearn.cluster import KMeans\n",
    "import pickle\n",
    "import numpy as np"
   ]
  },
  {
   "cell_type": "code",
   "execution_count": 4,
   "id": "364d5d73",
   "metadata": {},
   "outputs": [],
   "source": [
    "with open(\"clustering.pkl\", \"rb\") as f:\n",
    "    clustering = pickle.load(f)\n",
    "X = clustering[\"X\"]\n",
    "y = clustering[\"Y\"]\n"
   ]
  },
  {
   "cell_type": "code",
   "execution_count": 5,
   "id": "951647af",
   "metadata": {},
   "outputs": [],
   "source": [
    "metrics = []\n",
    "MAX_CLUSTERS = 7\n"
   ]
  },
  {
   "cell_type": "code",
   "execution_count": null,
   "id": "93ccb668",
   "metadata": {},
   "outputs": [],
   "source": []
  },
  {
   "cell_type": "code",
   "execution_count": 23,
   "id": "9dc959cc",
   "metadata": {},
   "outputs": [
    {
     "name": "stdout",
     "output_type": "stream",
     "text": [
      "cluster num 1 , metric 135.9276\n",
      "cluster num 2 , metric 92.3425\n",
      "cluster num 3 , metric 74.5232\n",
      "cluster num 4 , metric 60.7518\n",
      "cluster num 5 , metric 54.8666\n",
      "cluster num 6 , metric 49.7458\n"
     ]
    }
   ],
   "source": [
    "for cluster_num in range(1, MAX_CLUSTERS):\n",
    "    km_models = KMeans(n_clusters=cluster_num, random_state=99).fit(X)\n",
    "    centroid, label = km_models.cluster_centers_, km_models.labels_\n",
    "    metric = 0\n",
    "    for centroid_label in range(cluster_num):\n",
    "        metric += euclidean_distances(\n",
    "            X[label==centroid_label],\n",
    "            centroid[centroid_label, :].reshape(1, -1)\n",
    "        ).sum(axis=0)[0]\n",
    "    print(\"cluster num %d , metric %.4f\" %(cluster_num,metric))\n",
    "    metrics.append(metric)"
   ]
  },
  {
   "cell_type": "code",
   "execution_count": 28,
   "id": "7524f418",
   "metadata": {},
   "outputs": [
    {
     "data": {
      "text/plain": [
       "6.771405184137035"
      ]
     },
     "execution_count": 28,
     "metadata": {},
     "output_type": "execute_result"
    }
   ],
   "source": [
    "euclidean_distances(\n",
    "            X[label==centroid_label],\n",
    "            centroid[centroid_label, :].reshape(1, -1)\n",
    "        ).sum(axis=0)[0]"
   ]
  },
  {
   "cell_type": "code",
   "execution_count": 35,
   "id": "21c278f1",
   "metadata": {},
   "outputs": [
    {
     "data": {
      "text/plain": [
       "92.34245055263457"
      ]
     },
     "execution_count": 35,
     "metadata": {},
     "output_type": "execute_result"
    }
   ],
   "source": [
    "metrics[0+1]"
   ]
  },
  {
   "cell_type": "code",
   "execution_count": 45,
   "id": "5197ba08",
   "metadata": {},
   "outputs": [
    {
     "name": "stdout",
     "output_type": "stream",
     "text": [
      "best num clusters 2\n"
     ]
    },
    {
     "data": {
      "text/plain": [
       "[<matplotlib.lines.Line2D at 0x1ff632d5340>]"
      ]
     },
     "execution_count": 45,
     "metadata": {},
     "output_type": "execute_result"
    },
    {
     "data": {
      "image/png": "[encoded data removed]",
      "text/plain": [
       "<Figure size 640x480 with 1 Axes>"
      ]
     },
     "metadata": {},
     "output_type": "display_data"
    }
   ],
   "source": [
    "D = []\n",
    "for i in range (0, len(metrics)-1):\n",
    "    d = abs(metrics[i+1] - metrics[i])/abs(metrics[i] - metrics[i-1])\n",
    "    D.append(d)\n",
    "print(\"best num clusters %s\"%(np.argmin(D)+1))\n",
    "plt.plot([i+1 for i in range(len(metrics))], metrics)"
   ]
  },
  {
   "cell_type": "code",
   "execution_count": 157,
   "id": "3ba21821",
   "metadata": {},
   "outputs": [],
   "source": [
    "def random_centroids_selection(X, n, k):\n",
    "    \"\"\"Рандомно инициализируем центр кластера\"\"\"\n",
    "    result = []\n",
    "    for obj_id in np.random.randint(0, n, size=k):\n",
    "        result.append(X[obj_id, :])\n",
    "    return result\n",
    "\n",
    "def eval_weight_evolution(centroid_objects_prev, centroid_objects, k):\n",
    "    \"\"\"Вычисляем, как сдвинулись центры за один шаг алгоритма\"\"\"\n",
    "    result = []\n",
    "    for i in range(k):\n",
    "        dist = distance.euclidean(\n",
    "            centroid_objects_prev[i],\n",
    "            centroid_objects[i]\n",
    "        )\n",
    "        result.append(dist)\n",
    "    return result\n",
    "\n",
    "def eval_centroids(X, k, cluster_lables):\n",
    "    \"\"\"Вычисляем новые центроиды с методом усреднения координат\"\"\"\n",
    "    result = []\n",
    "    for i in range(k):\n",
    "        new_centroid = X[cluster_lables==i].mean(axis=0)\n",
    "        result.append(new_centroid)\n",
    "    return result\n",
    "def eval_cluster_lables(X, centroid_objects):\n",
    "    \"\"\"Вычисляем метки кластеров\"\"\"\n",
    "    # формируем матрицу (n x k), которая содержит расстояние от каждого объекта до каждого центроида\n",
    "    cluster_distance = euclidean_distances(X, centroid_objects)\n",
    "    # находим минимальное расстояние в каждой строчке - это будет кластер объекта\n",
    "    cluster_lables = cluster_distance.argmin(axis=1)\n",
    "    return cluster_lables"
   ]
  },
  {
   "cell_type": "code",
   "execution_count": 225,
   "id": "10410456",
   "metadata": {},
   "outputs": [
    {
     "name": "stdout",
     "output_type": "stream",
     "text": [
      "шаг 0, смещение кластеров: [1.384586909588641, 1.5811513150365168]\n",
      "шаг 1, смещение кластеров: [0.0704527731729065, 0.06953892993722824]\n",
      "шаг 2, смещение кластеров: [0.08583566647344554, 0.07955030622457585]\n",
      "шаг 3, смещение кластеров: [0.0, 0.0]\n"
     ]
    },
    {
     "data": {
      "text/plain": [
       "[<matplotlib.lines.Line2D at 0x1ff6d59fc40>]"
      ]
     },
     "execution_count": 225,
     "metadata": {},
     "output_type": "execute_result"
    },
    {
     "data": {
      "image/png": "[encoded data removed]",
      "text/plain": [
       "<Figure size 640x480 with 1 Axes>"
      ]
     },
     "metadata": {},
     "output_type": "display_data"
    }
   ],
   "source": [
    "def k_means(X:np.array, k: int=2, eps: float=0.001, num_iteration: int=10) -> np.array:\n",
    "    \"\"\"Алгоритм К-средних\n",
    "    \n",
    "    :param X: обучающая выборка\n",
    "    :param k: количество кластеров\n",
    "    \"\"\"\n",
    "    try:\n",
    "        n, m = X.shape\n",
    "    except ValueError:\n",
    "        print(\"Обучающая выборка должна быть двумерным массивом (n, m) гдк m - размер выборки\")\n",
    "    # инициализируем центроиды случайным элементом выборки\n",
    "    centroid_objects = random_centroids_selection(X, n, k)\n",
    "    centroid_objects_prev = [np.zeros(m) for i in range(k)]\n",
    "    # расстояние между предыдущим и текущим положением каждого центроида\n",
    "    weight_evolution = eval_weight_evolution(centroid_objects_prev, centroid_objects, k)\n",
    "    step = 0\n",
    "    # условие остановки: центроиды не изменили своего положения\n",
    "    # повторяем до выполнения условия остановки\n",
    "    while sum(weight_evolution[i] > eps for i in range(k))!=0 and step < num_iteration:\n",
    "        # иначе можно прострелить себе ногу =0\n",
    "        centroid_objects_prev = centroid_objects.copy()\n",
    "        # вычисляем метки кластеров\n",
    "        cluster_lables = eval_cluster_lables(X, centroid_objects)\n",
    "        # усредняем координаты объектов каждого кластера - это новое положение центроида\n",
    "        centroid_objects = eval_centroids(X, k, cluster_lables)\n",
    "        # вычисляем расстояние между центроидами на соседних итерациях\n",
    "        weight_evolution = eval_weight_evolution(centroid_objects_prev, centroid_objects, k)\n",
    "        print(\"шаг %s, смещение кластеров: %s\" % (step, weight_evolution))\n",
    "        # обновлённые кластера\n",
    "        step += 1\n",
    "    return np.vstack(centroid_objects), cluster_lables\n",
    "centroids, cluster_labels = k_means(X, k=2, num_iteration=10)\n",
    "\n",
    "plt.scatter(X[:,0], X[:,1], c=cluster_labels, marker=\"o\", label='data')\n",
    "plt.plot(centroids[:,0], centroids[:,1], marker=\"+\", mew=10, ms=20)"
   ]
  },
  {
   "cell_type": "code",
   "execution_count": 152,
   "id": "2fad95b4",
   "metadata": {},
   "outputs": [],
   "source": [
    "def random_centroids_selection(X, n, k):\n",
    "    \"\"\"Рандомно инициализируем центр кластера\"\"\"\n",
    "    result = []\n",
    "    for obj_id in np.random.randint(0, n, size=k):\n",
    "        result.append(X[obj_id, :])\n",
    "    return result\n",
    "\n",
    "def eval_weight_evolution(centroid_objects_prev, centroid_objects, k):\n",
    "    \"\"\"Вычисляем, как сдвинулись центры за один шаг алгоритма\"\"\"\n",
    "    result = []\n",
    "    for i in range(k):\n",
    "        dist = distance.euclidean(\n",
    "            centroid_objects_prev[i],\n",
    "            centroid_objects[i]\n",
    "        )\n",
    "        result.append(dist)\n",
    "    return result\n",
    "\n",
    "def eval_centroids(X, k, cluster_lables):\n",
    "    \"\"\"Вычисляем новые центроиды с методом усреднения координат\"\"\"\n",
    "    result = []\n",
    "    for i in range(k):\n",
    "        new_centroid = X[cluster_lables==i].mean(axis=0)\n",
    "        result.append(new_centroid)\n",
    "    return result\n",
    "\n",
    "def eval_cluster_lables(X, centroid_objects):\n",
    "    \"\"\"Вычисляем метки кластеров\"\"\"\n",
    "    # формируем матрицу (n x k), которая содержит расстояние от каждого объекта до каждого центроида\n",
    "    cluster_distance = euclidean_distances(X, centroid_objects)\n",
    "    # находим минимальное расстояние в каждой строчке - это будет кластер объекта\n",
    "    cluster_lables = cluster_distance.argmin(axis=1)\n",
    "    return cluster_lables\n",
    "\n",
    "def k_means(X:np.array, k: int=2, eps: float=0.001, num_iteration: int=10) -> np.array:\n",
    "    \"\"\"Алгоритм К-средних\n",
    "    \n",
    "    :param X: обучающая выборка\n",
    "    :param k: количество кластеров\n",
    "    \"\"\"\n",
    "    try:\n",
    "        n, m = X.shape\n",
    "    except ValueError:\n",
    "        print(\"Обучающая выборка должна быть двумерным массивом (n, m) гдк m - размер выборки\")\n",
    "    # инициализируем центроиды случайным элементом выборки\n",
    "    centroid_objects = random_centroids_selection(X, n, k)\n",
    "    centroid_objects_prev = [np.zeros(m) for i in range(k)]\n",
    "    # расстояние между предыдущим и текущим положением каждого центроида\n",
    "    weight_evolution = eval_weight_evolution(centroid_objects_prev, centroid_objects, k)\n",
    "    step = 0\n",
    "    # условие остановки: центроиды не изменили своего положения\n",
    "    # повторяем до выполнения условия остановки\n",
    "    while sum(weight_evolution[i] > eps for i in range(k))!=0 and step < num_iteration:\n",
    "        # иначе можно прострелить себе ногу =0\n",
    "        centroid_objects_prev = centroid_objects.copy()\n",
    "        # вычисляем метки кластеров\n",
    "        cluster_lables = eval_cluster_lables(X, centroid_objects)\n",
    "        # усредняем координаты объектов каждого кластера - это новое положение центроида\n",
    "        centroid_objects = eval_centroids(X, k, cluster_lables)\n",
    "        # вычисляем расстояние между центроидами на соседних итерациях\n",
    "        weight_evolution = eval_weight_evolution(centroid_objects_prev, centroid_objects, k)\n",
    "        print(\"шаг %s, смещение кластеров: %s\" % (step, weight_evolution))\n",
    "        # обновлённые кластера\n",
    "        step += 1\n",
    "    return np.vstack(centroid_objects), cluster_lables"
   ]
  }
 ],
 "metadata": {
  "kernelspec": {
   "display_name": "Python 3 (ipykernel)",
   "language": "python",
   "name": "python3"
  },
  "language_info": {
   "codemirror_mode": {
    "name": "ipython",
    "version": 3
   },
   "file_extension": ".py",
   "mimetype": "text/x-python",
   "name": "python",
   "nbconvert_exporter": "python",
   "pygments_lexer": "ipython3",
   "version": "3.9.13"
  }
 },
 "nbformat": 4,
 "nbformat_minor": 5
}
