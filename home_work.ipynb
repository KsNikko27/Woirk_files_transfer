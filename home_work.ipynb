{
 "cells": [
  {
   "cell_type": "code",
   "execution_count": 1,
   "id": "6516b232-a6a4-4b91-a992-1f0dd12ea11d",
   "metadata": {},
   "outputs": [],
   "source": [
    "import numpy as np\n",
    "import pandas as pd"
   ]
  },
  {
   "cell_type": "code",
   "execution_count": 3,
   "id": "08cba3d5-c918-412b-b63f-4155a35822a8",
   "metadata": {},
   "outputs": [],
   "source": [
    "from sklearn.tree import DecisionTreeClassifier\n",
    "from sklearn.linear_model import LinearRegression\n",
    "from sklearn.cluster import KMeans"
   ]
  },
  {
   "cell_type": "code",
   "execution_count": 63,
   "id": "6ced89f8-eb2e-48b5-a12f-16f6367a9fdc",
   "metadata": {},
   "outputs": [],
   "source": [
    "import matplotlib"
   ]
  },
  {
   "cell_type": "code",
   "execution_count": 64,
   "id": "977e813a-2c49-4bea-b885-2c76a1c9859b",
   "metadata": {},
   "outputs": [],
   "source": [
    "import matplotlib.pyplot as plt"
   ]
  },
  {
   "cell_type": "code",
   "execution_count": null,
   "id": "b787a8d3-99c6-4dd8-a568-129f50baeaf6",
   "metadata": {},
   "outputs": [],
   "source": []
  },
  {
   "cell_type": "code",
   "execution_count": 5,
   "id": "1bf3f10d-05cf-47d7-8b37-bbea1c479287",
   "metadata": {},
   "outputs": [],
   "source": [
    "phones = pd.read_csv(\"1.8_phones.csv\")"
   ]
  },
  {
   "cell_type": "code",
   "execution_count": 7,
   "id": "738a0758-a7e8-4e26-ad53-b897c9e7e706",
   "metadata": {},
   "outputs": [
    {
     "data": {
      "text/html": [
       "<div>\n",
       "<style scoped>\n",
       "    .dataframe tbody tr th:only-of-type {\n",
       "        vertical-align: middle;\n",
       "    }\n",
       "\n",
       "    .dataframe tbody tr th {\n",
       "        vertical-align: top;\n",
       "    }\n",
       "\n",
       "    .dataframe thead th {\n",
       "        text-align: right;\n",
       "    }\n",
       "</style>\n",
       "<table border=\"1\" class=\"dataframe\">\n",
       "  <thead>\n",
       "    <tr style=\"text-align: right;\">\n",
       "      <th></th>\n",
       "      <th>disk</th>\n",
       "      <th>os</th>\n",
       "      <th>price</th>\n",
       "      <th>year</th>\n",
       "    </tr>\n",
       "  </thead>\n",
       "  <tbody>\n",
       "    <tr>\n",
       "      <th>0</th>\n",
       "      <td>64</td>\n",
       "      <td>Android</td>\n",
       "      <td>7256</td>\n",
       "      <td>2016</td>\n",
       "    </tr>\n",
       "    <tr>\n",
       "      <th>1</th>\n",
       "      <td>128</td>\n",
       "      <td>Android</td>\n",
       "      <td>7623</td>\n",
       "      <td>2015</td>\n",
       "    </tr>\n",
       "    <tr>\n",
       "      <th>2</th>\n",
       "      <td>64</td>\n",
       "      <td>Android</td>\n",
       "      <td>1916</td>\n",
       "      <td>2010</td>\n",
       "    </tr>\n",
       "    <tr>\n",
       "      <th>3</th>\n",
       "      <td>512</td>\n",
       "      <td>iOS</td>\n",
       "      <td>15045</td>\n",
       "      <td>2017</td>\n",
       "    </tr>\n",
       "    <tr>\n",
       "      <th>4</th>\n",
       "      <td>16</td>\n",
       "      <td>Android</td>\n",
       "      <td>4478</td>\n",
       "      <td>2013</td>\n",
       "    </tr>\n",
       "    <tr>\n",
       "      <th>5</th>\n",
       "      <td>512</td>\n",
       "      <td>iOS</td>\n",
       "      <td>15842</td>\n",
       "      <td>2018</td>\n",
       "    </tr>\n",
       "    <tr>\n",
       "      <th>6</th>\n",
       "      <td>128</td>\n",
       "      <td>Android</td>\n",
       "      <td>7191</td>\n",
       "      <td>2015</td>\n",
       "    </tr>\n",
       "    <tr>\n",
       "      <th>7</th>\n",
       "      <td>64</td>\n",
       "      <td>Android</td>\n",
       "      <td>4277</td>\n",
       "      <td>2013</td>\n",
       "    </tr>\n",
       "    <tr>\n",
       "      <th>8</th>\n",
       "      <td>512</td>\n",
       "      <td>iOS</td>\n",
       "      <td>12797</td>\n",
       "      <td>2015</td>\n",
       "    </tr>\n",
       "    <tr>\n",
       "      <th>9</th>\n",
       "      <td>64</td>\n",
       "      <td>Android</td>\n",
       "      <td>6256</td>\n",
       "      <td>2015</td>\n",
       "    </tr>\n",
       "  </tbody>\n",
       "</table>\n",
       "</div>"
      ],
      "text/plain": [
       "   disk       os  price  year\n",
       "0    64  Android   7256  2016\n",
       "1   128  Android   7623  2015\n",
       "2    64  Android   1916  2010\n",
       "3   512      iOS  15045  2017\n",
       "4    16  Android   4478  2013\n",
       "5   512      iOS  15842  2018\n",
       "6   128  Android   7191  2015\n",
       "7    64  Android   4277  2013\n",
       "8   512      iOS  12797  2015\n",
       "9    64  Android   6256  2015"
      ]
     },
     "execution_count": 7,
     "metadata": {},
     "output_type": "execute_result"
    }
   ],
   "source": [
    "phones.head(10)"
   ]
  },
  {
   "cell_type": "code",
   "execution_count": 25,
   "id": "9055544e-972e-4933-8f7c-f000457838b1",
   "metadata": {},
   "outputs": [],
   "source": [
    "X = phones[['disk','year']]\n",
    "Y = phones['price']\n",
    "reg = LinearRegression().fit(X, Y)"
   ]
  },
  {
   "cell_type": "code",
   "execution_count": 26,
   "id": "3a75b0c7-3164-44c7-a53a-8d83f7f4f260",
   "metadata": {},
   "outputs": [
    {
     "data": {
      "text/plain": [
       "(7848.046694419114,\n",
       "    disk  year\n",
       " 0    64  2016)"
      ]
     },
     "execution_count": 26,
     "metadata": {},
     "output_type": "execute_result"
    }
   ],
   "source": [
    "reg.predict(X[0:1])[0] , X[0:1]"
   ]
  },
  {
   "cell_type": "code",
   "execution_count": 27,
   "id": "3370ac81-b1e4-4bff-854d-0aac80386e20",
   "metadata": {},
   "outputs": [],
   "source": [
    "x = phones[['price','disk']]\n",
    "y = phones['os']"
   ]
  },
  {
   "cell_type": "code",
   "execution_count": 28,
   "id": "7ec2abc7-afcc-4baf-86e5-2d904f6e2738",
   "metadata": {},
   "outputs": [],
   "source": [
    "cl = DecisionTreeClassifier().fit(x,y)\n"
   ]
  },
  {
   "cell_type": "code",
   "execution_count": 29,
   "id": "9292e552-7822-4f6a-af32-a175e2cb03a1",
   "metadata": {},
   "outputs": [],
   "source": [
    "from sklearn.tree import export_text"
   ]
  },
  {
   "cell_type": "code",
   "execution_count": 31,
   "id": "8831bf12-fc9f-46b2-acb6-06514512e90d",
   "metadata": {},
   "outputs": [
    {
     "name": "stdout",
     "output_type": "stream",
     "text": [
      "|--- feature_1 <= 192.00\n",
      "|   |--- class: Android\n",
      "|--- feature_1 >  192.00\n",
      "|   |--- class: iOS\n",
      "\n"
     ]
    }
   ],
   "source": [
    "print(export_text(cl))"
   ]
  },
  {
   "cell_type": "code",
   "execution_count": 36,
   "id": "2678c46b-a326-48d3-8d30-6f3c9ffccf39",
   "metadata": {},
   "outputs": [
    {
     "data": {
      "text/plain": [
       "('iOS', 'iOS')"
      ]
     },
     "execution_count": 36,
     "metadata": {},
     "output_type": "execute_result"
    }
   ],
   "source": [
    "cl.predict(x[10:11])[0], y[10]"
   ]
  },
  {
   "cell_type": "code",
   "execution_count": null,
   "id": "b45a9132-ae1d-4cae-a639-8031cb1aa6b1",
   "metadata": {},
   "outputs": [],
   "source": []
  },
  {
   "cell_type": "code",
   "execution_count": 37,
   "id": "4990bc3a-01cc-4b0e-b898-fc2ec09b350d",
   "metadata": {},
   "outputs": [],
   "source": [
    "c = phones[['disk','price']]"
   ]
  },
  {
   "cell_type": "code",
   "execution_count": 47,
   "id": "dfcd86a6-8b09-4e02-ad0b-d9835c7e2f73",
   "metadata": {},
   "outputs": [
    {
     "name": "stderr",
     "output_type": "stream",
     "text": [
      "C:\\Anaconda\\envs\\TensorFlowenv\\lib\\site-packages\\sklearn\\cluster\\_kmeans.py:1334: UserWarning: KMeans is known to have a memory leak on Windows with MKL, when there are less chunks than available threads. You can avoid it by setting the environment variable OMP_NUM_THREADS=1.\n",
      "  warnings.warn(\n"
     ]
    }
   ],
   "source": [
    "clust = KMeans(n_clusters=2).fit(c)"
   ]
  },
  {
   "cell_type": "code",
   "execution_count": 49,
   "id": "891725a9-cc4f-4f09-b955-bdbbdb3bd7d5",
   "metadata": {},
   "outputs": [],
   "source": [
    "[c1,c2] = clust.cluster_centers_"
   ]
  },
  {
   "cell_type": "code",
   "execution_count": 65,
   "id": "893cbf19-8d35-4e30-961e-1f7bf1e40c43",
   "metadata": {
    "tags": []
   },
   "outputs": [
    {
     "data": {
      "text/plain": [
       "(0, 'iOS')"
      ]
     },
     "execution_count": 65,
     "metadata": {},
     "output_type": "execute_result"
    }
   ],
   "source": [
    "clust.predict(c[8:9])[0], y[8]"
   ]
  },
  {
   "cell_type": "code",
   "execution_count": null,
   "id": "f5beeedb-9a3e-4616-a3df-275111cd31b4",
   "metadata": {},
   "outputs": [],
   "source": []
  },
  {
   "cell_type": "code",
   "execution_count": null,
   "id": "c2a4d6f2-1d33-4b45-9171-5684e228e433",
   "metadata": {},
   "outputs": [],
   "source": []
  },
  {
   "cell_type": "code",
   "execution_count": 78,
   "id": "652a0b25-2180-4ea0-b717-7125f782c618",
   "metadata": {},
   "outputs": [
    {
     "name": "stderr",
     "output_type": "stream",
     "text": [
      "C:\\Users\\naga3\\AppData\\Local\\Temp\\ipykernel_6932\\2882657081.py:4: UserWarning: Matplotlib is currently using module://matplotlib_inline.backend_inline, which is a non-GUI backend, so cannot show the figure.\n",
      "  fig.show()\n"
     ]
    },
    {
     "data": {
      "image/png": "[encoded data removed]",
      "text/plain": [
       "<Figure size 1000x1000 with 1 Axes>"
      ]
     },
     "metadata": {},
     "output_type": "display_data"
    }
   ],
   "source": [
    "fig = plt.figure(figsize=(10,10))\n",
    "ax = plt.axes()\n",
    "ax.scatter(phones['price'], phones['disk'], s = 100)\n",
    "fig.show()"
   ]
  },
  {
   "cell_type": "code",
   "execution_count": null,
   "id": "65b0bd47-6c39-40bf-8cab-97dbcf8be0b2",
   "metadata": {},
   "outputs": [],
   "source": []
  }
 ],
 "metadata": {
  "kernelspec": {
   "display_name": "Python 3 (ipykernel)",
   "language": "python",
   "name": "python3"
  },
  "language_info": {
   "codemirror_mode": {
    "name": "ipython",
    "version": 3
   },
   "file_extension": ".py",
   "mimetype": "text/x-python",
   "name": "python",
   "nbconvert_exporter": "python",
   "pygments_lexer": "ipython3",
   "version": "3.9.13"
  }
 },
 "nbformat": 4,
 "nbformat_minor": 5
}
