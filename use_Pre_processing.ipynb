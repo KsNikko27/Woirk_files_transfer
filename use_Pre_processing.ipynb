{
  "nbformat": 4,
  "nbformat_minor": 0,
  "metadata": {
    "kernelspec": {
      "display_name": "Python 3",
      "language": "python",
      "name": "python3"
    },
    "language_info": {
      "codemirror_mode": {
        "name": "ipython",
        "version": 3
      },
      "file_extension": ".py",
      "mimetype": "text/x-python",
      "name": "python",
      "nbconvert_exporter": "python",
      "pygments_lexer": "ipython3",
      "version": "3.6.3"
    },
    "colab": {
      "provenance": []
    }
  },
  "cells": [
    {
      "cell_type": "markdown",
      "metadata": {
        "id": "b440sCmKapRt"
      },
      "source": [
        "# Домашняя работа\n",
        "\n",
        "## Урок 2. \n",
        "\n",
        "### Задание начального уровня\n",
        "\n",
        "\n",
        "Примените процедуру токенизации к файлу `brand_tweets_valid.csv`\n",
        "\n",
        "Сколько *уникальных* токенов получилось?"
      ]
    },
    {
      "cell_type": "code",
      "metadata": {
        "id": "qzrWClC1apR4"
      },
      "source": [
        "# стоп-слова\n",
        "stop_words = [\n",
        "    'i', 'me', 'my', 'myself', 'we', 'our', 'ours', 'ourselves', 'you', \"you're\", \"you've\", \"you'll\", \"you'd\",\n",
        "    'your', 'yours', 'yourself', 'yourselves', 'he', 'him', 'his', 'himself', 'she', \"she's\", 'her', 'hers',\n",
        "    'herself', 'it', \"it's\", 'its', 'itself', 'they', 'them', 'their', 'theirs', 'themselves', 'what', 'which',\n",
        "    'who', 'whom', 'this', 'that', \"that'll\", 'these', 'those', 'am', 'is', 'are', 'was', 'were', 'be', 'been',\n",
        "    'being', 'have', 'has', 'had', 'having', 'do', 'does', 'did', 'doing', 'a', 'an', 'the', 'and', 'but', 'if',\n",
        "    'or', 'because', 'as', 'until', 'while', 'of', 'at', 'by', 'for', 'with', 'about', 'against', 'between',\n",
        "    'into', 'through', 'during', 'before', 'after', 'above', 'below', 'to', 'from', 'up', 'down', 'in', 'out',\n",
        "    'on', 'off', 'over', 'under', 'again', 'further', 'then', 'once', 'here', 'there', 'when', 'where', 'why',\n",
        "    'how', 'all', 'any', 'both', 'each', 'few', 'more', 'most', 'other', 'some', 'such', 'no', 'nor', 'not',\n",
        "    'only', 'own', 'same', 'so', 'than', 'too', 'very', 's', 't', 'can', 'will', 'just', 'don', \"don't\", 'shold',\n",
        "    \"should've\", 'now', 'd', 'll', 'm', 'o', 're', 've', 'y', 'ain', 'aren', \"aren't\", 'couldn', \"couldn't\",\n",
        "    'didn', \"didn't\", 'doesn', \"doesn't\", 'hadn', \"hadn't\", 'hasn', \"hasn't\", 'haven', \"haven't\", 'isn', \"isn't\",\n",
        "    'ma', 'mightn', \"mightn't\", 'mustn', \"mustn't\", 'needn', \"needn't\", 'shan', \"shan't\", 'shouldn', \"shouldn't\",\n",
        "    'wasn', \"wasn't\", 'weren', \"weren't\", 'won', \"won't\", 'wouldn', \"wouldn't\"\n",
        "]"
      ],
      "execution_count": 13,
      "outputs": []
    },
    {
      "cell_type": "code",
      "metadata": {
        "id": "5FBTDc5xapSO",
        "outputId": "1379b02e-6148-4a65-ea31-a2b89554336e",
        "colab": {
          "base_uri": "https://localhost:8080/",
          "height": 337
        }
      },
      "source": [
        "import nltk\n",
        "import string\n",
        "import pandas as pd\n",
        "from itertools import chain\n",
        "import numpy as np\n",
        "\n",
        "### YOUR CODE HERE ###\n",
        "df = pd.read_csv(\"brand_tweets_valid.csv\")\n",
        "df.head()"
      ],
      "execution_count": 14,
      "outputs": [
        {
          "output_type": "execute_result",
          "data": {
            "text/plain": [
              "                                          tweet_text  \\\n",
              "0  Wow! Google maps for mobile v5 demo at #sxsw. ...   \n",
              "1  The #google name was built on gettinng stuff o...   \n",
              "2  &quot;Apple opening a temporary store in Austi...   \n",
              "3  #tech Apple Opening Pop-Up Store In Austin For...   \n",
              "4   GSDM Google party is off the hook! #SXSW  {link}   \n",
              "\n",
              "   emotion_in_tweet_is_directed_at  \\\n",
              "0  Other Google product or service   \n",
              "1                           Google   \n",
              "2                              NaN   \n",
              "3                            Apple   \n",
              "4                           Google   \n",
              "\n",
              "  is_there_an_emotion_directed_at_a_brand_or_product  \n",
              "0                                   Positive emotion  \n",
              "1                                   Positive emotion  \n",
              "2                 No emotion toward brand or product  \n",
              "3                                   Positive emotion  \n",
              "4                                   Positive emotion  "
            ],
            "text/html": [
              "\n",
              "  <div id=\"df-767297c1-1837-4779-8fce-8c4927d48085\">\n",
              "    <div class=\"colab-df-container\">\n",
              "      <div>\n",
              "<style scoped>\n",
              "    .dataframe tbody tr th:only-of-type {\n",
              "        vertical-align: middle;\n",
              "    }\n",
              "\n",
              "    .dataframe tbody tr th {\n",
              "        vertical-align: top;\n",
              "    }\n",
              "\n",
              "    .dataframe thead th {\n",
              "        text-align: right;\n",
              "    }\n",
              "</style>\n",
              "<table border=\"1\" class=\"dataframe\">\n",
              "  <thead>\n",
              "    <tr style=\"text-align: right;\">\n",
              "      <th></th>\n",
              "      <th>tweet_text</th>\n",
              "      <th>emotion_in_tweet_is_directed_at</th>\n",
              "      <th>is_there_an_emotion_directed_at_a_brand_or_product</th>\n",
              "    </tr>\n",
              "  </thead>\n",
              "  <tbody>\n",
              "    <tr>\n",
              "      <th>0</th>\n",
              "      <td>Wow! Google maps for mobile v5 demo at #sxsw. ...</td>\n",
              "      <td>Other Google product or service</td>\n",
              "      <td>Positive emotion</td>\n",
              "    </tr>\n",
              "    <tr>\n",
              "      <th>1</th>\n",
              "      <td>The #google name was built on gettinng stuff o...</td>\n",
              "      <td>Google</td>\n",
              "      <td>Positive emotion</td>\n",
              "    </tr>\n",
              "    <tr>\n",
              "      <th>2</th>\n",
              "      <td>&amp;quot;Apple opening a temporary store in Austi...</td>\n",
              "      <td>NaN</td>\n",
              "      <td>No emotion toward brand or product</td>\n",
              "    </tr>\n",
              "    <tr>\n",
              "      <th>3</th>\n",
              "      <td>#tech Apple Opening Pop-Up Store In Austin For...</td>\n",
              "      <td>Apple</td>\n",
              "      <td>Positive emotion</td>\n",
              "    </tr>\n",
              "    <tr>\n",
              "      <th>4</th>\n",
              "      <td>GSDM Google party is off the hook! #SXSW  {link}</td>\n",
              "      <td>Google</td>\n",
              "      <td>Positive emotion</td>\n",
              "    </tr>\n",
              "  </tbody>\n",
              "</table>\n",
              "</div>\n",
              "      <button class=\"colab-df-convert\" onclick=\"convertToInteractive('df-767297c1-1837-4779-8fce-8c4927d48085')\"\n",
              "              title=\"Convert this dataframe to an interactive table.\"\n",
              "              style=\"display:none;\">\n",
              "        \n",
              "  <svg xmlns=\"http://www.w3.org/2000/svg\" height=\"24px\"viewBox=\"0 0 24 24\"\n",
              "       width=\"24px\">\n",
              "    <path d=\"M0 0h24v24H0V0z\" fill=\"none\"/>\n",
              "    <path d=\"M18.56 5.44l.94 2.06.94-2.06 2.06-.94-2.06-.94-.94-2.06-.94 2.06-2.06.94zm-11 1L8.5 8.5l.94-2.06 2.06-.94-2.06-.94L8.5 2.5l-.94 2.06-2.06.94zm10 10l.94 2.06.94-2.06 2.06-.94-2.06-.94-.94-2.06-.94 2.06-2.06.94z\"/><path d=\"M17.41 7.96l-1.37-1.37c-.4-.4-.92-.59-1.43-.59-.52 0-1.04.2-1.43.59L10.3 9.45l-7.72 7.72c-.78.78-.78 2.05 0 2.83L4 21.41c.39.39.9.59 1.41.59.51 0 1.02-.2 1.41-.59l7.78-7.78 2.81-2.81c.8-.78.8-2.07 0-2.86zM5.41 20L4 18.59l7.72-7.72 1.47 1.35L5.41 20z\"/>\n",
              "  </svg>\n",
              "      </button>\n",
              "      \n",
              "  <style>\n",
              "    .colab-df-container {\n",
              "      display:flex;\n",
              "      flex-wrap:wrap;\n",
              "      gap: 12px;\n",
              "    }\n",
              "\n",
              "    .colab-df-convert {\n",
              "      background-color: #E8F0FE;\n",
              "      border: none;\n",
              "      border-radius: 50%;\n",
              "      cursor: pointer;\n",
              "      display: none;\n",
              "      fill: #1967D2;\n",
              "      height: 32px;\n",
              "      padding: 0 0 0 0;\n",
              "      width: 32px;\n",
              "    }\n",
              "\n",
              "    .colab-df-convert:hover {\n",
              "      background-color: #E2EBFA;\n",
              "      box-shadow: 0px 1px 2px rgba(60, 64, 67, 0.3), 0px 1px 3px 1px rgba(60, 64, 67, 0.15);\n",
              "      fill: #174EA6;\n",
              "    }\n",
              "\n",
              "    [theme=dark] .colab-df-convert {\n",
              "      background-color: #3B4455;\n",
              "      fill: #D2E3FC;\n",
              "    }\n",
              "\n",
              "    [theme=dark] .colab-df-convert:hover {\n",
              "      background-color: #434B5C;\n",
              "      box-shadow: 0px 1px 3px 1px rgba(0, 0, 0, 0.15);\n",
              "      filter: drop-shadow(0px 1px 2px rgba(0, 0, 0, 0.3));\n",
              "      fill: #FFFFFF;\n",
              "    }\n",
              "  </style>\n",
              "\n",
              "      <script>\n",
              "        const buttonEl =\n",
              "          document.querySelector('#df-767297c1-1837-4779-8fce-8c4927d48085 button.colab-df-convert');\n",
              "        buttonEl.style.display =\n",
              "          google.colab.kernel.accessAllowed ? 'block' : 'none';\n",
              "\n",
              "        async function convertToInteractive(key) {\n",
              "          const element = document.querySelector('#df-767297c1-1837-4779-8fce-8c4927d48085');\n",
              "          const dataTable =\n",
              "            await google.colab.kernel.invokeFunction('convertToInteractive',\n",
              "                                                     [key], {});\n",
              "          if (!dataTable) return;\n",
              "\n",
              "          const docLinkHtml = 'Like what you see? Visit the ' +\n",
              "            '<a target=\"_blank\" href=https://colab.research.google.com/notebooks/data_table.ipynb>data table notebook</a>'\n",
              "            + ' to learn more about interactive tables.';\n",
              "          element.innerHTML = '';\n",
              "          dataTable['output_type'] = 'display_data';\n",
              "          await google.colab.output.renderOutput(dataTable, element);\n",
              "          const docLink = document.createElement('div');\n",
              "          docLink.innerHTML = docLinkHtml;\n",
              "          element.appendChild(docLink);\n",
              "        }\n",
              "      </script>\n",
              "    </div>\n",
              "  </div>\n",
              "  "
            ]
          },
          "metadata": {},
          "execution_count": 14
        }
      ]
    },
    {
      "cell_type": "code",
      "source": [
        "df.shape"
      ],
      "metadata": {
        "id": "xcrMqZ5RxPGO",
        "outputId": "ba6861b2-bf18-4e4e-85e1-7a902b7b84cd",
        "colab": {
          "base_uri": "https://localhost:8080/"
        }
      },
      "execution_count": 3,
      "outputs": [
        {
          "output_type": "execute_result",
          "data": {
            "text/plain": [
              "(402, 3)"
            ]
          },
          "metadata": {},
          "execution_count": 3
        }
      ]
    },
    {
      "cell_type": "code",
      "source": [
        "nltk.download('punkt', download_dir=\".\")"
      ],
      "metadata": {
        "id": "MtbKOJjKyr9u",
        "outputId": "2acd1bca-487d-45f4-fdf0-791f57606f44",
        "colab": {
          "base_uri": "https://localhost:8080/"
        }
      },
      "execution_count": 16,
      "outputs": [
        {
          "output_type": "stream",
          "name": "stderr",
          "text": [
            "[nltk_data] Downloading package punkt to ....\n",
            "[nltk_data]   Unzipping tokenizers/punkt.zip.\n"
          ]
        },
        {
          "output_type": "execute_result",
          "data": {
            "text/plain": [
              "True"
            ]
          },
          "metadata": {},
          "execution_count": 16
        }
      ]
    },
    {
      "cell_type": "code",
      "source": [
        "text = df.tweet_text.values[0]\n",
        "tokenized_text = nltk.word_tokenize(text)\n",
        "print(text)\n",
        "print(tokenized_text)"
      ],
      "metadata": {
        "id": "vt22Kvkox3MH",
        "outputId": "768df3f4-e6c5-403c-e23d-79b20fa38407",
        "colab": {
          "base_uri": "https://localhost:8080/"
        }
      },
      "execution_count": 17,
      "outputs": [
        {
          "output_type": "stream",
          "name": "stdout",
          "text": [
            "Wow! Google maps for mobile v5 demo at #sxsw. Very nice.\n",
            "['Wow', '!', 'Google', 'maps', 'for', 'mobile', 'v5', 'demo', 'at', '#', 'sxsw', '.', 'Very', 'nice', '.']\n"
          ]
        }
      ]
    },
    {
      "cell_type": "code",
      "source": [
        "tokens = [i.lower() for i in tokenized_text if (i not in string.punctuation)]\n",
        "print(tokens)"
      ],
      "metadata": {
        "id": "7yGPj8hgyyB9",
        "outputId": "0d916221-8ba8-426a-cf3c-5e50416d0cef",
        "colab": {
          "base_uri": "https://localhost:8080/"
        }
      },
      "execution_count": 21,
      "outputs": [
        {
          "output_type": "stream",
          "name": "stdout",
          "text": [
            "['wow', 'google', 'maps', 'for', 'mobile', 'v5', 'demo', 'at', 'sxsw', 'very', 'nice']\n"
          ]
        }
      ]
    },
    {
      "cell_type": "code",
      "source": [
        "filtered_token = [i for i in tokens if (i not in stop_words)]\n",
        "print(filtered_token)"
      ],
      "metadata": {
        "id": "mphEYfeHzeRI",
        "outputId": "f63c18f5-1da5-4071-f7f5-ae2b4433e792",
        "colab": {
          "base_uri": "https://localhost:8080/"
        }
      },
      "execution_count": 22,
      "outputs": [
        {
          "output_type": "stream",
          "name": "stdout",
          "text": [
            "['wow', 'google', 'maps', 'mobile', 'v5', 'demo', 'sxsw', 'nice']\n"
          ]
        }
      ]
    },
    {
      "cell_type": "code",
      "source": [
        "def tokenize_text(row_text: str):\n",
        "  tokenized_text = nltk.word_tokenize(row_text)\n",
        "  token = [i.lower() for i in tokenized_text if (i not in string.punctuation)]\n",
        "  filtered_token = [i for i in token if (i not in stop_words)]\n",
        "  return filtered_token\n",
        "tokenized_tweets = df.tweet_text.apply(tokenize_text)\n",
        "\n",
        "df = df.assign(tokenized=tokenized_tweets)\n",
        "\n",
        "df.tokenized.head(20)"
      ],
      "metadata": {
        "id": "qMgkXF-U0PPw",
        "outputId": "f4d2b96d-9394-4fe2-eed5-9eb77b0d3a95",
        "colab": {
          "base_uri": "https://localhost:8080/"
        }
      },
      "execution_count": 34,
      "outputs": [
        {
          "output_type": "execute_result",
          "data": {
            "text/plain": [
              "0     [wow, google, maps, mobile, v5, demo, sxsw, nice]\n",
              "1     [google, name, built, gettinng, stuff, trying,...\n",
              "2     [quot, apple, opening, temporary, store, austi...\n",
              "3     [tech, apple, opening, pop-up, store, austin, ...\n",
              "4               [gsdm, google, party, hook, sxsw, link]\n",
              "5     [sxsw, apple, picked, great, venue, launch, ne...\n",
              "6     [sxsw, apple, pop, store, still, ipads, stock,...\n",
              "7     [google, preview, major, new, social, service,...\n",
              "8     [google, reveal, new, social, network, called,...\n",
              "9     [google, reveal, new, social, network, called,...\n",
              "10    [google, reveal, new, social, network, called,...\n",
              "11    [google, reveal, new, social, network, called,...\n",
              "12    [tech, apple, saves, sxsw, set, open, pop-up, ...\n",
              "13    [cool, apple, sets, 5,000, sq, ft., temporary,...\n",
              "14    [popup, apple, store, crew, giving, water, peo...\n",
              "15    [popup, apple, store, opens, sxsw, love, going...\n",
              "16           [sxsw, apple, store, run, day, boo, apple]\n",
              "17    [japan, apple, stores, serve, rallying, point,...\n",
              "18    [love, google, street, maps, getting, idea, ev...\n",
              "19    [make, people, think, 've, arrived, mention, w...\n",
              "Name: tokenized, dtype: object"
            ]
          },
          "metadata": {},
          "execution_count": 34
        }
      ]
    }
  ]
}